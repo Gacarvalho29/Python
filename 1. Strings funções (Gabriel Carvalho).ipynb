{
 "cells": [
  {
   "cell_type": "code",
   "execution_count": 66,
   "id": "3ba74fea",
   "metadata": {},
   "outputs": [
    {
     "name": "stdout",
     "output_type": "stream",
     "text": [
      "jump Label\n"
     ]
    }
   ],
   "source": [
    "txt = 'jump Label'\n",
    "print(txt)"
   ]
  },
  {
   "cell_type": "code",
   "execution_count": 67,
   "id": "3b694c29",
   "metadata": {},
   "outputs": [
    {
     "name": "stdout",
     "output_type": "stream",
     "text": [
      "JUMP LABEL\n"
     ]
    }
   ],
   "source": [
    "#Método que retornar os elementos da string em letra maiscula\n",
    "#upper()\n",
    "txtupp = txt.upper()\n",
    "print(txtupp)"
   ]
  },
  {
   "cell_type": "code",
   "execution_count": 68,
   "id": "44e33be9",
   "metadata": {},
   "outputs": [
    {
     "name": "stdout",
     "output_type": "stream",
     "text": [
      "jump label\n"
     ]
    }
   ],
   "source": [
    "#Método que retornar os elementos da string em letra minuscula\n",
    "#lower()\n",
    "txtlow = txt.lower()\n",
    "print(txtlow)"
   ]
  },
  {
   "cell_type": "code",
   "execution_count": 69,
   "id": "4a4d0748",
   "metadata": {},
   "outputs": [
    {
     "name": "stdout",
     "output_type": "stream",
     "text": [
      "['jump', 'Label']\n"
     ]
    }
   ],
   "source": [
    "#Método que separa a string em uma lista\n",
    "#split()\n",
    "txtsplit = txt.split()\n",
    "print(txtsplit)"
   ]
  },
  {
   "cell_type": "code",
   "execution_count": 70,
   "id": "7d0322ba",
   "metadata": {},
   "outputs": [
    {
     "name": "stdout",
     "output_type": "stream",
     "text": [
      "Jump label\n"
     ]
    }
   ],
   "source": [
    "#Método que coloca só a primeira letra da string em maiuscula\n",
    "#capitalize()\n",
    "txtcap = txt.capitalize()\n",
    "print(txtcap)"
   ]
  },
  {
   "cell_type": "code",
   "execution_count": 71,
   "id": "083fb439",
   "metadata": {},
   "outputs": [
    {
     "name": "stdout",
     "output_type": "stream",
     "text": [
      "a palavra Jump aparece: 2 vezes e a, palavra Label aparece: 1 vezes\n"
     ]
    }
   ],
   "source": [
    "#Método que conta a quantidade de vezes que um termo se repete\n",
    "#count()\n",
    "txt2 = 'Jump Label tem Jump Starters em treinamento'\n",
    "count1 = txt2.count('Jump')\n",
    "count2 = txt2.count('Label')\n",
    "print(f'a palavra Jump aparece: {count1} vezes e a, palavra Label aparece: {count2} vezes')"
   ]
  },
  {
   "cell_type": "code",
   "execution_count": 72,
   "id": "bfe0f0b9",
   "metadata": {},
   "outputs": [
    {
     "name": "stdout",
     "output_type": "stream",
     "text": [
      "20\n"
     ]
    }
   ],
   "source": [
    "#Método que acha a posição em que a palavra começa\n",
    "#find()\n",
    "txtfind = txt2.find('Starters')\n",
    "print(txtfind)"
   ]
  },
  {
   "cell_type": "code",
   "execution_count": 73,
   "id": "058bb692",
   "metadata": {},
   "outputs": [
    {
     "name": "stdout",
     "output_type": "stream",
     "text": [
      "                    jump Label                    \n"
     ]
    }
   ],
   "source": [
    "#Método que cetraliza a palavra no meio do número de caracteres que foi declarado\n",
    "#center()\n",
    "txtcenter = txt.center(50)\n",
    "print(txtcenter)"
   ]
  },
  {
   "cell_type": "code",
   "execution_count": 74,
   "id": "b66608e3",
   "metadata": {},
   "outputs": [
    {
     "name": "stdout",
     "output_type": "stream",
     "text": [
      "True\n"
     ]
    }
   ],
   "source": [
    "#Método que verifica se todos os caracteres são alfanumericos (espaço não é)\n",
    "#isalnum()\n",
    "txt3 = 'JumpStart3'\n",
    "txtnum = txt3.isalnum()\n",
    "print(txtnum)"
   ]
  },
  {
   "cell_type": "code",
   "execution_count": 75,
   "id": "c0b4da09",
   "metadata": {},
   "outputs": [
    {
     "name": "stdout",
     "output_type": "stream",
     "text": [
      "False\n",
      "True\n"
     ]
    }
   ],
   "source": [
    "#Método que verifica se todos os caracteres são letras (espaço não é letra)\n",
    "#isalpha()\n",
    "txt4 = 'JumpLabel'\n",
    "txtletter1 = txt3.isalpha()\n",
    "txtletter2 = txt4.isalpha()\n",
    "print(txtletter1)\n",
    "print(txtletter2)"
   ]
  },
  {
   "cell_type": "code",
   "execution_count": 76,
   "id": "decd5f58",
   "metadata": {},
   "outputs": [
    {
     "name": "stdout",
     "output_type": "stream",
     "text": [
      "False\n",
      "True\n"
     ]
    }
   ],
   "source": [
    "#Método que verifica se todos os caracteres estão em letra minuscula\n",
    "#islower()\n",
    "txt5 = 'jump label'\n",
    "txtlower1 = txt4.islower()\n",
    "txtlower2 = txt5.islower()\n",
    "print(txtlower1)\n",
    "print(txtlower2)"
   ]
  },
  {
   "cell_type": "code",
   "execution_count": 77,
   "id": "08ee1553",
   "metadata": {},
   "outputs": [
    {
     "name": "stdout",
     "output_type": "stream",
     "text": [
      "False\n",
      "True\n"
     ]
    }
   ],
   "source": [
    "#Método que verifica se todos os caracteres são espaços em branco\n",
    "#isspace()\n",
    "txt6 = '    '\n",
    "txtisspace1 = txt5.isspace()\n",
    "txtisspace2 = txt6.isspace()\n",
    "print(txtisspace1)\n",
    "print(txtisspace2)"
   ]
  },
  {
   "cell_type": "code",
   "execution_count": 78,
   "id": "7fc8dda9",
   "metadata": {},
   "outputs": [
    {
     "name": "stdout",
     "output_type": "stream",
     "text": [
      "True\n",
      "False\n"
     ]
    }
   ],
   "source": [
    "#Método que verifica se a String termina com o caracter determinado\n",
    "#endswith()\n",
    "txtends = txt5.endswith('l')\n",
    "txtends2 = txt5.endswith('.')\n",
    "print(txtends)\n",
    "print(txtends2)"
   ]
  },
  {
   "cell_type": "code",
   "execution_count": 79,
   "id": "8f2e033c",
   "metadata": {},
   "outputs": [
    {
     "name": "stdout",
     "output_type": "stream",
     "text": [
      "('Eu poderia programar o ', 'dia todo', ' que eu não iria cansar')\n"
     ]
    }
   ],
   "source": [
    "#Método que procura uma String e retorna uma tupla com 3 elementos\n",
    "#1. tudo aquilo que vem antes da String, 2. a String, 3. tudo que vem depois da String\n",
    "#partition()\n",
    "txt7 = 'Eu poderia programar o dia todo que eu não iria cansar'\n",
    "txtpart = txt7.partition('dia todo')\n",
    "print(txtpart)"
   ]
  },
  {
   "cell_type": "code",
   "execution_count": null,
   "id": "42579a06",
   "metadata": {},
   "outputs": [],
   "source": []
  }
 ],
 "metadata": {
  "kernelspec": {
   "display_name": "Python 3 (ipykernel)",
   "language": "python",
   "name": "python3"
  },
  "language_info": {
   "codemirror_mode": {
    "name": "ipython",
    "version": 3
   },
   "file_extension": ".py",
   "mimetype": "text/x-python",
   "name": "python",
   "nbconvert_exporter": "python",
   "pygments_lexer": "ipython3",
   "version": "3.9.12"
  }
 },
 "nbformat": 4,
 "nbformat_minor": 5
}
