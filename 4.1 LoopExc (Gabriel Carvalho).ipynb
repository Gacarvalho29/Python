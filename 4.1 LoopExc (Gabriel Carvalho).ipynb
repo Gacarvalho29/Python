{
 "cells": [
  {
   "cell_type": "markdown",
   "metadata": {},
   "source": [
    "### 1.\n",
    "Faça um programa que peça uma nota, entre zero e dez. Mostre\n",
    "uma mensagem caso o valor seja inválido e continue pedindo\n",
    "até que o usuário informe um valor válido."
   ]
  },
  {
   "cell_type": "code",
   "execution_count": 2,
   "metadata": {},
   "outputs": [
    {
     "name": "stdout",
     "output_type": "stream",
     "text": [
      "Nota deve ser um número\n",
      "Nota deve ser um número\n",
      "Nota deve ser um número\n",
      "Informe um valor válido\n",
      "Informe um valor válido\n",
      "8\n"
     ]
    }
   ],
   "source": [
    "while True:\n",
    "    try:\n",
    "        nota = float(input('Digite uma nota entre 0 e 10: '))\n",
    "        if nota >0 and nota <10:\n",
    "            print(f'\\nA nota digitada foi {nota}')\n",
    "            break\n",
    "        else:\n",
    "            print('\\nInforme um valor válido')\n",
    "    except:\n",
    "        print('\\nNota deve ser um número')"
   ]
  },
  {
   "cell_type": "markdown",
   "metadata": {},
   "source": [
    "### 2. \n",
    "Faça um programa que leia um nome de usuário e a sua senha e\n",
    "não aceite a senha igual ao nome do usuário, mostrando uma\n",
    "mensagem de erro e voltando a pedir as informações."
   ]
  },
  {
   "cell_type": "code",
   "execution_count": 1,
   "metadata": {},
   "outputs": [
    {
     "name": "stdout",
     "output_type": "stream",
     "text": [
      "Sucesso!\n"
     ]
    }
   ],
   "source": [
    "while True:\n",
    "    try:\n",
    "        nomeUser = input('Digite seu nome de usuário: ')\n",
    "        senha = input('Digite sua senha: ')\n",
    "        if nomeUser != senha:\n",
    "            print('Sucesso!')\n",
    "            break\n",
    "        else:\n",
    "            print('Senha não pode ser igual ao nome de usuário')\n",
    "    except:\n",
    "        print('Erro')"
   ]
  },
  {
   "cell_type": "markdown",
   "metadata": {},
   "source": [
    "### 3.\n",
    "Faça um programa que leia e valide as seguintes informações:\n",
    "- Nome: maior que 3 caracteres;\n",
    "- Idade: entre 0 e 150;\n",
    "- Salário: maior que zero;\n",
    "- Sexo: 'f' ou 'm';\n",
    "- Estado Civil: 's', 'c', 'v', 'd’."
   ]
  },
  {
   "cell_type": "code",
   "execution_count": 6,
   "metadata": {},
   "outputs": [
    {
     "name": "stdout",
     "output_type": "stream",
     "text": [
      "Seu nome: Gabriel\n",
      "Sua idade: 20\n",
      "Seu salário: R$1750.0\n",
      "Seu sexo: Masculino\n",
      "Seu Estado Civil: Solteiro\n"
     ]
    }
   ],
   "source": [
    "while True:\n",
    "    try:\n",
    "        name = input('Digite seu nome: ')\n",
    "        if len(name) > 3:\n",
    "            idade = int(input('Digite sua idade: '))\n",
    "            if idade > 0 and idade < 150:\n",
    "                sal = float(input('Digite o seu salário: '))\n",
    "                if sal > 0:\n",
    "                    sexo = input('Digite o seu sexo (\"F\" ou \"M\")').lower()\n",
    "                    if sexo == 'f' or sexo == 'm':\n",
    "                        if sexo == 'f':\n",
    "                            sexo = 'Feminino'\n",
    "                        if sexo == 'm':\n",
    "                            sexo = 'Masculino'\n",
    "\n",
    "                        estCiv = input('Digite o seu Estado Civil (\"s\", \"c\", \"v\", \"d\")').lower()\n",
    "                        if estCiv in ['s', 'c', 'v', 'd']:\n",
    "\n",
    "                            if estCiv == 's':\n",
    "                                estCiv = 'Solteiro'\n",
    "                            elif estCiv == 'c':\n",
    "                                estCiv = 'Casado'\n",
    "                            elif estCiv == 'v':\n",
    "                                estCiv = 'Viúvo'\n",
    "                            elif estCiv == 'd':\n",
    "                                estCiv = 'Divorciado'\n",
    "                            \n",
    "                            print(f'Seu nome: {name}\\nSua idade: {idade}\\nSeu salário: R${sal}\\nSeu sexo: {sexo}\\nSeu Estado Civil: {estCiv}')\n",
    "                            break\n",
    "                        else:\n",
    "                            print('Estado Civil inválido!')\n",
    "                    else:\n",
    "                        print('Sexo inválido!')\n",
    "                else:\n",
    "                    print('Salário deve ser maior que zero!')\n",
    "            else:\n",
    "                print('Idade deve estar entre 0 e 150')\n",
    "        else:\n",
    "            print('Nome deve possuir mais que 3 caracteres')\n",
    "    except:\n",
    "        print('Erro')"
   ]
  },
  {
   "cell_type": "markdown",
   "metadata": {},
   "source": [
    "### 4.\n",
    "Supondo que a população de um país X seja da ordem de\n",
    "100000 habitantes com uma taxa anual de crescimento de 2,7%\n",
    "e que a população de W seja 250000 habitantes com uma taxa\n",
    "de crescimento de 1.3%. Faça um programa que calcule e\n",
    "escreva o número de anos necessários para que a população do\n",
    "país X ultrapasse ou iguale a população do país W, mantidas as\n",
    "taxas de crescimento."
   ]
  },
  {
   "cell_type": "code",
   "execution_count": 7,
   "metadata": {},
   "outputs": [
    {
     "name": "stdout",
     "output_type": "stream",
     "text": [
      "A população do país X ultrapassara a população do pais W em 67 anos\n"
     ]
    }
   ],
   "source": [
    "paisX = 100000\n",
    "txCrecX = 2.7/100\n",
    "paisW = 250000\n",
    "txCrecW = 1.3/100\n",
    "tempo = 0\n",
    "\n",
    "while paisX <paisW:\n",
    "    paisX += paisX*txCrecX\n",
    "    paisW += paisW*txCrecW\n",
    "    tempo+=1\n",
    "print(f'A população do país X ultrapassara a população do pais W em {tempo} anos')"
   ]
  },
  {
   "cell_type": "markdown",
   "metadata": {},
   "source": [
    "### 5. \n",
    "Altere o programa anterior permitindo ao usuário informar as populações\n",
    "e as taxas de crescimento iniciais. Valide a entrada e permita repetir a\n",
    "operação."
   ]
  },
  {
   "cell_type": "code",
   "execution_count": 4,
   "metadata": {},
   "outputs": [
    {
     "name": "stdout",
     "output_type": "stream",
     "text": [
      "A população do país X ultrapassara a população do pais W em 67 anos\n"
     ]
    }
   ],
   "source": [
    "while True:\n",
    "    try:\n",
    "        paisX = int(input('Digite a taxa populacional do pais X'))\n",
    "        if paisX > 0:\n",
    "            txCrecX = float(input('Digite a taxa de crescimento do pais X em %'))\n",
    "            if txCrecX > 0:\n",
    "                paisW = int(input('Digite a taxa populacional do pais W'))\n",
    "                if paisW > 0:\n",
    "                    txCrecW = float(input('Digite a taxa de crescimento do pais W em %'))\n",
    "                    if txCrecW > 0:\n",
    "                        tempo = 0\n",
    "                        if (paisX > paisW)\n",
    "                        while paisX <paisW:\n",
    "                            paisX += paisX*(txCrecX/100)\n",
    "                            paisW += paisW*(txCrecW/100)\n",
    "                            tempo+=1\n",
    "                        print(f'A população do país X ultrapassara a população do pais W em {tempo} anos')\n",
    "                        break\n",
    "                        \n",
    "                    else:\n",
    "                        print('Taxa de crescimento não pode ser negativa!')\n",
    "                else:\n",
    "                    print('População não pode ser negativa!')\n",
    "            else:\n",
    "                print('Taxa de crescimento não pode ser negativa!')\n",
    "        else:\n",
    "            print('População não pode ser negativa!')\n",
    "    except:\n",
    "        print('ERRO!')"
   ]
  },
  {
   "cell_type": "markdown",
   "metadata": {},
   "source": [
    "### 6.\n",
    "Faça um programa que imprima na tela os números de 1 a 15, um\n",
    "abaixo do outro. Depois modifique o programa para que ele mostre\n",
    "os números um ao lado do outro."
   ]
  },
  {
   "cell_type": "code",
   "execution_count": 10,
   "metadata": {},
   "outputs": [
    {
     "name": "stdout",
     "output_type": "stream",
     "text": [
      "1\n",
      "2\n",
      "3\n",
      "4\n",
      "5\n",
      "6\n",
      "7\n",
      "8\n",
      "9\n",
      "10\n",
      "11\n",
      "12\n",
      "13\n",
      "14\n",
      "15\n",
      "\n",
      "[1, 2, 3, 4, 5, 6, 7, 8, 9, 10, 11, 12, 13, 14, 15]\n"
     ]
    }
   ],
   "source": [
    "lista = list(range(1,16))\n",
    "for i in lista:\n",
    "    print(i)\n",
    "\n",
    "print(f'\\n{lista}')"
   ]
  },
  {
   "cell_type": "markdown",
   "metadata": {},
   "source": [
    "### 7. \n",
    "Faça um programa que leia 4 números e informe o maior número."
   ]
  },
  {
   "cell_type": "code",
   "execution_count": 1,
   "metadata": {},
   "outputs": [
    {
     "name": "stdout",
     "output_type": "stream",
     "text": [
      "Erro!\n",
      "Erro!\n",
      "9.0\n"
     ]
    }
   ],
   "source": [
    "while True:\n",
    "    try:\n",
    "        lista = []\n",
    "        for i in range(0,4):\n",
    "            n = float(input('Digite 4 números: '))\n",
    "            i+=1\n",
    "            lista.append(n)\n",
    "        print(f'O maior elemento dessa lista é {max(lista)}.')\n",
    "        break\n",
    "    except:\n",
    "        print('Erro!')"
   ]
  },
  {
   "cell_type": "markdown",
   "metadata": {},
   "source": [
    "### 8.\n",
    "Faça um programa que leia 8 números e informe a soma e a média\n",
    "dos números."
   ]
  },
  {
   "cell_type": "code",
   "execution_count": 3,
   "metadata": {},
   "outputs": [
    {
     "name": "stdout",
     "output_type": "stream",
     "text": [
      "a soma dos elementos é igual à 45.0.\n",
      "A média dos elementos é 5.625.\n"
     ]
    }
   ],
   "source": [
    "while True:\n",
    "    try:\n",
    "        lista = []\n",
    "        for i in range(0,8):\n",
    "            n = float(input('Digite 8 números: '))\n",
    "            i+=1\n",
    "            lista.append(n)\n",
    "        soma = sum(lista)\n",
    "        print(f'a soma dos elementos é igual à {soma}.')\n",
    "        media = soma/len(lista)\n",
    "        print(f'A média dos elementos é {media}.')\n",
    "        break\n",
    "    except:\n",
    "        print('Erro!')"
   ]
  },
  {
   "cell_type": "markdown",
   "metadata": {},
   "source": [
    "### 9. \n",
    "Faça um programa que imprima na tela apenas os números\n",
    "ímpares entre 1 e 25."
   ]
  },
  {
   "cell_type": "code",
   "execution_count": 6,
   "metadata": {},
   "outputs": [
    {
     "name": "stdout",
     "output_type": "stream",
     "text": [
      "1\n",
      "3\n",
      "5\n",
      "7\n",
      "9\n",
      "11\n",
      "13\n",
      "15\n",
      "17\n",
      "19\n",
      "21\n",
      "23\n",
      "25\n"
     ]
    }
   ],
   "source": [
    "lista = list(range(0,26))\n",
    "for i in lista:\n",
    "    if i%2 == 1:\n",
    "        print(i)"
   ]
  },
  {
   "cell_type": "markdown",
   "metadata": {},
   "source": [
    "### 10. \n",
    "Faça um programa que receba dois números inteiros e gere os números inteiros que\n",
    "estão no intervalo compreendido por eles."
   ]
  },
  {
   "cell_type": "code",
   "execution_count": 19,
   "metadata": {},
   "outputs": [
    {
     "name": "stdout",
     "output_type": "stream",
     "text": [
      "O intervalo entre esses números: \n",
      "[4, 5, 6, 7, 8]\n"
     ]
    }
   ],
   "source": [
    "while True:\n",
    "    try:\n",
    "        num1 = int(input('Digite o 1° número inteiro: '))\n",
    "        num2 = int(input('Digite o 2° número inteiro: '))\n",
    "        \n",
    "        if num1 < num2:\n",
    "            lista = list(range(num1, num2))\n",
    "            print(f'O intervalo entre esses números: \\n{lista}')\n",
    "            break\n",
    "        else:\n",
    "            lista = list(range(num2, num1))\n",
    "            print(f'O intervalo entre esses números: \\n{lista}')\n",
    "            break\n",
    "    except:\n",
    "        print('Erro!')"
   ]
  },
  {
   "cell_type": "markdown",
   "metadata": {},
   "source": [
    "### 11.\n",
    "Altere o programa anterior para mostrar no final a soma dos\n",
    "números."
   ]
  },
  {
   "cell_type": "code",
   "execution_count": 21,
   "metadata": {},
   "outputs": [
    {
     "name": "stdout",
     "output_type": "stream",
     "text": [
      "O intervalo entre esses números: \n",
      "[4, 5, 6, 7, 8]\n",
      "A soma dos números entre esse intervalo: 30\n"
     ]
    }
   ],
   "source": [
    "while True:\n",
    "    try:\n",
    "        num1 = int(input('Digite o 1° número inteiro: '))\n",
    "        num2 = int(input('Digite o 2° número inteiro: '))\n",
    "        if num1 < num2:\n",
    "            lista = list(range(num1, num2))\n",
    "            soma = sum(lista)\n",
    "            print(f'O intervalo entre esse números:\\n {lista}')\n",
    "            print(f'A soma dos números entre esse intervalo: {soma}')\n",
    "            break\n",
    "        else:\n",
    "            lista = list(range(num2, num1))\n",
    "            print(f'O intervalo entre esses números: \\n{lista}')\n",
    "            print(f'A soma dos números entre esse intervalo: {soma}')\n",
    "            break\n",
    "    except:\n",
    "        print('Erro!')"
   ]
  },
  {
   "cell_type": "markdown",
   "metadata": {},
   "source": [
    "### 12.\n",
    "Desenvolva um gerador de tabuada, capaz de gerar a tabuada de qualquer\n",
    "número inteiro entre 1 a 10. O usuário deve informar de qual numero ele deseja\n",
    "ver a tabuada. A saída deve ser conforme o exemplo abaixo:\n",
    "\n",
    "- Tabuada de 5:\n",
    "- 5 X 1 = 5\n",
    "- 5 X 2 = 10\n",
    "- ...\n",
    "- 5 X 10 = 50"
   ]
  },
  {
   "cell_type": "code",
   "execution_count": 1,
   "metadata": {},
   "outputs": [
    {
     "name": "stdout",
     "output_type": "stream",
     "text": [
      "-9 x 1 = -9\n",
      "-9 x 2 = -18\n",
      "-9 x 3 = -27\n",
      "-9 x 4 = -36\n",
      "-9 x 5 = -45\n",
      "-9 x 6 = -54\n",
      "-9 x 7 = -63\n",
      "-9 x 8 = -72\n",
      "-9 x 9 = -81\n",
      "-9 x 10 = -90\n"
     ]
    }
   ],
   "source": [
    "while True:\n",
    "    try:\n",
    "        num = int(input('Digite qual número vc deseja ver a tubuada: '))\n",
    "\n",
    "        for i in range(1,11):\n",
    "            print(f'{num} x {i} = {num*i}')\n",
    "            i+=1\n",
    "        break\n",
    "    except:\n",
    "        print('Valor deve ser númerico')"
   ]
  },
  {
   "cell_type": "markdown",
   "metadata": {},
   "source": [
    "### 13.\n",
    "Sendo H= 1 + 1/2 + 1/3 + 1/4 + ... + 1/N.\n",
    "Faça um programa que calcule o valor de H com N termos."
   ]
  },
  {
   "cell_type": "code",
   "execution_count": 8,
   "metadata": {},
   "outputs": [
    {
     "name": "stdout",
     "output_type": "stream",
     "text": [
      "\n",
      "N deve ser maior que 0!\n",
      "\n",
      "N deve ser maior que 0!\n",
      "1.0\n"
     ]
    }
   ],
   "source": [
    "while True:\n",
    "    try:\n",
    "        n = int(input('Digite a quantidade de termos: '))\n",
    "        if n > 0:\n",
    "            h = 0\n",
    "            for i in range(1,n+1):\n",
    "                h = h + 1/i\n",
    "            print(round(h, 2))\n",
    "            break\n",
    "        else:\n",
    "            print('\\nN deve ser maior que 0!')\n",
    "    except:\n",
    "        print('\\nN deve ser um número!')"
   ]
  },
  {
   "cell_type": "markdown",
   "metadata": {},
   "source": [
    "### 14. \n",
    "Em uma competição de ginástica, cada atleta recebe votos de nove jurados. A melhor e a pior nota\n",
    "são eliminadas. A sua nota fica sendo a média dos votos restantes. Você deve fazer um programa que\n",
    "receba o nome do ginasta e as notas dos nove jurados alcançadas pelo atleta em sua apresentação e\n",
    "depois informe a sua média, conforme a descrição acima informada (retirar o melhor e o pior salto e\n",
    "depois calcular a média com as notas restantes). As notas não são informados ordenadas. Um\n",
    "exemplo de saída do programa deve ser conforme o exemplo abaixo:\n",
    "- Atleta: Aparecido Parente\n",
    "- Nota: 9.9\n",
    "- .\n",
    "- .\n",
    "- .\n",
    "- Nota: 9.0\n",
    "- Nota: 8.5\n",
    "- Nota: 9.7\n",
    "- Resultado final:\n",
    "- Atleta: Bianca\n",
    "- Melhor nota: 9.8\n",
    "- Pior nota: 7.3\n",
    "- Média: 9,07"
   ]
  },
  {
   "cell_type": "code",
   "execution_count": 6,
   "metadata": {},
   "outputs": [
    {
     "name": "stdout",
     "output_type": "stream",
     "text": [
      "Resultado final: \n",
      "\n",
      "Atleta: Gabriel\n",
      "Melhor nota: 9.9\n",
      "Pior nota: 8.5\n",
      "Média: 9.19\n"
     ]
    }
   ],
   "source": [
    "while True:\n",
    "    try:\n",
    "        listNota = []\n",
    "        nome = input('Digite o nome do atleta: ')\n",
    "        ok = True\n",
    "        jur = 1\n",
    "        while ok:\n",
    "            for i in range(0,9):\n",
    "                nota = float(input(f'Qual a nota dada pelo jurado {jur}:'))\n",
    "                if nota > 0 and nota <=10:\n",
    "                    listNota.append(nota)\n",
    "                    i+=1\n",
    "                    jur+=1\n",
    "                    ok = False\n",
    "                else:\n",
    "                    print('Nota deve estar entre 0 e 10!')\n",
    "\n",
    "        maiorNota = max(listNota)\n",
    "        menorNota = min(listNota)\n",
    "\n",
    "        listNota.remove(maiorNota)\n",
    "        listNota.remove(menorNota)\n",
    "        \n",
    "        print('Resultado final: \\n')\n",
    "        print(f'Atleta: {nome}')\n",
    "        print(f'Melhor nota: {max(listNota)}')\n",
    "        print(f'Pior nota: {min(listNota)}')\n",
    "        print(f'Média: {round(sum(listNota)/len(listNota), 2)}')\n",
    "        break\n",
    "    except:\n",
    "        print('ERRO!')\n"
   ]
  },
  {
   "cell_type": "markdown",
   "metadata": {},
   "source": [
    "### 15.\n",
    "Em uma competição de salto em distância cada atleta tem direito a cinco saltos. No final da\n",
    "série de saltos de cada atleta, o melhor e o pior resultados são eliminados. O seu resultado fica\n",
    "sendo a média dos três valores restantes. Você deve fazer um programa que receba o nome e\n",
    "as cinco distâncias alcançadas pelo atleta em seus saltos e depois informe a média dos saltos\n",
    "conforme a descrição acima informada (retirar o melhor e o pior salto e depois calcular a\n",
    "média). Faça uso de uma lista para armazenar os saltos. Os saltos são informados na ordem da\n",
    "execução, portanto não são ordenados. O programa deve ser encerrado quando não for\n",
    "informado o nome do atleta. A saída do programa deve ser conforme o exemplo abaixo:\n",
    "\n",
    "- Atleta: Lucas Lima\n",
    "- Primeiro Salto: 6.5 m\n",
    "- Segundo Salto: 6.1 m\n",
    "- Terceiro Salto: 6.2 m\n",
    "- Quarto Salto: 5.4 m\n",
    "- Quinto Salto: 5.3 m\n",
    "<br></br>\n",
    "- Melhor salto: 6.5 m\n",
    "- Pior salto: 5.3 m\n",
    "- Média dos demais saltos: 5.9 m\n",
    "<br></br>\n",
    "- Resultado final:\n",
    "- Lucas Lima: 5.9 m"
   ]
  },
  {
   "cell_type": "code",
   "execution_count": 1,
   "metadata": {},
   "outputs": [
    {
     "name": "stdout",
     "output_type": "stream",
     "text": [
      "Resultado final: \n",
      "\n",
      "Atleta: Gabriel Carvalho\n",
      "Melhor salto: 8.0\n",
      "Pior salto: 4.0\n",
      "Média: 5.67\n"
     ]
    }
   ],
   "source": [
    "while True:\n",
    "    try:\n",
    "        listDist = []\n",
    "        nome = input('Digite o nome do atleta: ')\n",
    "        if nome.isspace() == False:\n",
    "            ok = True\n",
    "            salto = 1\n",
    "            while ok:\n",
    "                for i in range(0,5):\n",
    "                    dist = float(input(f'Qual a distancia no salto {salto}:'))\n",
    "                    if dist > 0 and dist <=10:\n",
    "                        listDist.append(dist)\n",
    "                        i+=1\n",
    "                        salto+=1\n",
    "                        ok = False\n",
    "                    else:\n",
    "                        print('Distancia deve estar entre 0 e 10!')\n",
    "\n",
    "            maiorDist = max(listDist)\n",
    "            menorDist = min(listDist)\n",
    "\n",
    "            listDist.remove(maiorDist)\n",
    "            listDist.remove(menorDist)\n",
    "            \n",
    "            print('Resultado final: \\n')\n",
    "            print(f'Atleta: {nome}')\n",
    "            print(f'Melhor salto: {max(listDist)}')\n",
    "            print(f'Pior salto: {min(listDist)}')\n",
    "            print(f'Média: {round(sum(listDist)/len(listDist), 2)}')\n",
    "            break\n",
    "        else:\n",
    "            print('Você não digitou nenhum nome, encerrando programa\\n3...\\n2...\\n1...\\nPrograma encerrado!')\n",
    "            break\n",
    "    except:\n",
    "        print('ERRO!')"
   ]
  },
  {
   "cell_type": "markdown",
   "metadata": {},
   "source": [
    "### 16.\n",
    "Desenvolver um programa para verificar a nota do aluno em uma prova com 12 questões, o programa deve\n",
    "perguntar ao aluno a resposta de cada questão e ao final comparar com o gabarito da prova e assim calcular o\n",
    "total de acertos e a nota (atribuir 1 ponto por resposta certa). Após cada aluno utilizar o sistema deve ser feita\n",
    "uma pergunta se outro aluno vai utilizar o sistema. Após todos os alunos terem respondido informar:\n",
    "Maior e Menor Acerto;\n",
    "Total de Alunos que utilizaram o sistema;\n",
    "A Média das Notas da Turma.\n",
    "Gabarito da Prova:\n",
    "<br></br>\n",
    "- 01 - A\n",
    "- 02 - B\n",
    "- 03 - C\n",
    "- 04 - D\n",
    "- 05 - E\n",
    "- 06 - E\n",
    "- 07 - D\n",
    "- 08 - C\n",
    "- 09 - B\n",
    "- 10 – A\n",
    "- 11 – C\n",
    "- 12 - D\n",
    "<br><br/>\n",
    "Após concluir isto você poderia incrementar o programa permitindo que o professor digite o gabarito da prova\n",
    "antes dos alunos usarem o programa"
   ]
  },
  {
   "cell_type": "code",
   "execution_count": 9,
   "metadata": {},
   "outputs": [
    {
     "name": "stdout",
     "output_type": "stream",
     "text": [
      "\n",
      "O total de alunos que utilizaram o sistema foi: 1.\n",
      "O maior acerto foi de: 12\n",
      "O menor acerto foi de: 12\n"
     ]
    }
   ],
   "source": [
    "vai = True\n",
    "while vai:\n",
    "    try:\n",
    "        cadQ = {}\n",
    "        gabarito = {}\n",
    "        listAcerto = []\n",
    "        quest = 1\n",
    "        quest2 = 1\n",
    "        countAluno = 1\n",
    "        acerto = 0\n",
    "        ok = True\n",
    "        t =  True\n",
    "\n",
    "        while t:\n",
    "            for i in range(0,12):\n",
    "                gab = input(f'Digite a resposta para a Questão {quest2}: (A,B,C,D,E) ').upper()\n",
    "                gabarito[f'Questão {i}'] = gab\n",
    "                i+=1\n",
    "                quest2+=1\n",
    "                t = False\n",
    "\n",
    "        while ok:\n",
    "            for j in range(0,12):\n",
    "                resp = input(f'Digite sua resposta para a questão {quest}: (A,B,C,D,E)').upper()\n",
    "                if resp in ['A','B','C','D','E']:\n",
    "                    j+=1\n",
    "                    quest+=1\n",
    "                    cadQ[f'Questão {quest}'] = resp\n",
    "                else:\n",
    "                    print('Isso não é uma resposta válida!')\n",
    "\n",
    "            for i in range(0,12):        \n",
    "                for i in cadQ.values():\n",
    "                    ques = i\n",
    "                    for j in gabarito.values():\n",
    "                        respo = j\n",
    "                if ques==respo:\n",
    "                    acerto +=1\n",
    "            listAcerto.append(acerto)\n",
    "\n",
    "            conti = input('Deseja continuar? [N] para parar').upper()\n",
    "            if conti == 'N':\n",
    "                ok = False\n",
    "                vai = False\n",
    "            else:\n",
    "                quest = 1\n",
    "                countAluno+=1\n",
    "                continue\n",
    "        print(f'\\nO total de alunos que utilizaram o sistema foi: {countAluno}.')\n",
    "        print(f'O maior acerto foi de: {max(listAcerto)}')\n",
    "        print(f'O menor acerto foi de: {min(listAcerto)}')\n",
    "    except:\n",
    "        print('Valor inválido')"
   ]
  },
  {
   "cell_type": "code",
   "execution_count": 5,
   "metadata": {},
   "outputs": [
    {
     "name": "stdout",
     "output_type": "stream",
     "text": [
      "1\n",
      "2\n",
      "\n",
      "O total de alunos que utilizaram o sistema foi: 1.\n",
      "O maior acerto foi de: 2\n",
      "O menor acerto foi de: 2\n"
     ]
    }
   ],
   "source": [
    "vai = True\n",
    "while vai:\n",
    "    try:\n",
    "        cadQ = {}\n",
    "        gabarito = {1:'A',2:'B',3:'C',4:'A',5:'A',6:'A',7:'B',8:'C',9:'A',10:'A',11:'A',12:'A'}\n",
    "        listAcerto = []\n",
    "        quest = 1\n",
    "        quest2 = 1\n",
    "        countAluno = 1\n",
    "        acerto = 0\n",
    "        ok = True\n",
    "        t =  True\n",
    "\n",
    "        while ok:\n",
    "            for j in range(0,12):\n",
    "                resp = input(f'Digite sua resposta para a questão {quest}: (A,B,C,D,E)').upper()\n",
    "                if resp in ['A','B','C','D','E']:\n",
    "                    j+=1\n",
    "                    quest+=1\n",
    "                    cadQ[f'Questão {quest}'] = resp\n",
    "                else:\n",
    "                    print('Isso não é uma resposta válida!')\n",
    "\n",
    "            for i in range(0,2):        \n",
    "                for i in cadQ.values():\n",
    "                    ques = i\n",
    "                    for j in gabarito.values():\n",
    "                        respo = j\n",
    "                if ques==respo:\n",
    "                    acerto +=1\n",
    "                    print(acerto)\n",
    "            listAcerto.append(acerto)\n",
    "\n",
    "            conti = input('Deseja continuar? [N] para parar').upper()\n",
    "            if conti == 'N':\n",
    "                ok = False\n",
    "                vai = False\n",
    "            else:\n",
    "                quest = 1\n",
    "                countAluno+=1\n",
    "                continue\n",
    "        print(f'\\nO total de alunos que utilizaram o sistema foi: {countAluno}.')\n",
    "        print(f'O maior acerto foi de: {max(listAcerto)}')\n",
    "        print(f'O menor acerto foi de: {min(listAcerto)}')\n",
    "    except:\n",
    "        print('Valor inválido')"
   ]
  },
  {
   "cell_type": "markdown",
   "metadata": {},
   "source": [
    "### 17.\n",
    "O cardápio de uma lanchonete é o seguinte:\n",
    "\n",
    "<table>\n",
    "    <tr>\n",
    "        <th>Especificação</th> \n",
    "        <th>Código</th>\n",
    "        <th>Preço</th>\n",
    "    </tr>\n",
    "    <tr>\n",
    "        <td>Cachorro Quente</td> \n",
    "        <td>200</td>\n",
    "        <td>1,80 Reais</td>\n",
    "    </tr>\n",
    "    <tr>\n",
    "        <td>Misto Simples</td> \n",
    "        <td>201</td>\n",
    "        <td>2,30 Reais</td>\n",
    "    </tr>\n",
    "    <tr>\n",
    "        <td>Misto com ovo</td> \n",
    "        <td>202</td>\n",
    "        <td>2,60 Reais</td>\n",
    "    </tr>\n",
    "    <tr>\n",
    "        <td>X- Salada</td> \n",
    "        <td>203</td>\n",
    "        <td>1,90 Reais</td>\n",
    "    </tr>\n",
    "    <tr>\n",
    "        <td>X-Frango</td> \n",
    "        <td>204</td>\n",
    "        <td>1,80 Reais</td>\n",
    "    </tr>\n",
    "    <tr>\n",
    "        <td>Refrigerante</td> \n",
    "        <td>205</td>\n",
    "        <td>1,25 Reais</td>\n",
    "    </tr>\n",
    "</table>\n",
    "\n",
    "\n",
    "Faça um programa que leia o código dos itens pedidos e as\n",
    "quantidades desejadas. Calcule e mostre o valor a ser pago por item\n",
    "(preço * quantidade) e o total geral do pedido. Considere que o\n",
    "cliente deve informar quando o pedido deve ser encerrado."
   ]
  },
  {
   "cell_type": "code",
   "execution_count": 11,
   "metadata": {},
   "outputs": [
    {
     "name": "stdout",
     "output_type": "stream",
     "text": [
      "Valor deve ser númerico\n",
      "Valor deve ser númerico\n"
     ]
    }
   ],
   "source": [
    "while True:\n",
    "    cont = True\n",
    "    valoPagC,valoPagM,valoPagMO,valoPagXs,valoPagXf,valoPagRef = 0,0,0,0,0,0\n",
    "    dictProd = {}\n",
    "\n",
    "\n",
    "    try:\n",
    "        while cont:\n",
    "            prod = int(input('Digite o codigo do produto:'))\n",
    "\n",
    "            if prod == 200:\n",
    "                preco1 = 1.80\n",
    "                qtd1 = int(input('Digite a quantidade de itens: '))\n",
    "                while True:\n",
    "                    if qtd1 >= 0:\n",
    "                        valoPagC = preco1*qtd1\n",
    "                        break\n",
    "                    else:\n",
    "                        print('Quantidade deve ser maior ou igual a 0!')\n",
    "\n",
    "            elif prod == 201:\n",
    "                preco2 = 2.30\n",
    "                qtd2 = int(input('Digite a quantidade de itens: '))\n",
    "                while True:\n",
    "                    if qtd2 >= 0:\n",
    "                        valoPagM = preco2*qtd2\n",
    "                        break\n",
    "                    else:\n",
    "                        print('Quantidade deve ser maior ou igual a 0!')\n",
    "\n",
    "            elif prod == 202:\n",
    "                preco3 = 2.60\n",
    "                qtd3 = int(input('Digite a quantidade de itens: '))\n",
    "                while True:\n",
    "                    if qtd3 >= 0:\n",
    "                        valoPagMO = preco3*qtd3\n",
    "                        break\n",
    "                    else:\n",
    "                        print('Quantidade deve ser maior ou igual a 0!')\n",
    "            \n",
    "            elif prod == 203:\n",
    "                preco4 = 1.90\n",
    "                qtd4 = int(input('Digite a quantidade de itens: '))\n",
    "                while True:\n",
    "                    if qtd4 >= 0:\n",
    "                        valoPagXs = preco4*qtd4\n",
    "                        break\n",
    "                    else:\n",
    "                        print('Quantidade deve ser maior ou igual a 0!')\n",
    "            \n",
    "            elif prod == 204:\n",
    "                preco5 = 1.80\n",
    "                qtd5 = int(input('Digite a quantidade de itens: '))\n",
    "                while True:\n",
    "                    if qtd5 >= 0:\n",
    "                        valoPagXf = preco5*qtd5\n",
    "                        break\n",
    "                    else:\n",
    "                        print('Quantidade deve ser maior ou igual a 0!')\n",
    "            \n",
    "            elif prod == 205:\n",
    "                preco6 = 1.25\n",
    "                qtd6 = int(input('Digite a quantidade de itens: '))\n",
    "                while True:\n",
    "                    if qtd6 >= 0:\n",
    "                        valoPagRef = preco6*qtd6\n",
    "                        break\n",
    "                    else:\n",
    "                        print('Quantidade deve ser maior ou igual a 0!')\n",
    "            \n",
    "            elif prod == 0:\n",
    "                print('Pedido Finalizado!')\n",
    "                print('\\nO valor a ser pago por item:\\n')\n",
    "                dictProd ={'Cachorro quente': f'R${round(valoPagC, 2)}'\n",
    "                        ,'Misto simples': f'R${round(valoPagM, 2)}'\n",
    "                        ,'Misto com ovo': f'R${round(valoPagMO, 2)}'\n",
    "                        ,'X-Salada': f'R${round(valoPagXs, 2)}'\n",
    "                        ,'X-Frango': f'R${round(valoPagXf, 2)}'\n",
    "                        ,'Refrigerante': f'R${round(valoPagRef, 2)}'}\n",
    "                for (i,j) in dictProd.items():\n",
    "                    print(f'{i}: {j}')\n",
    "                print(f'\\nO valor total do seu pedido é: R${round(valoPagC+valoPagM+valoPagMO+valoPagXs+valoPagXf+valoPagRef, 2)}')\n",
    "                cont = False\n",
    "        break\n",
    "    except:\n",
    "        print('Valor deve ser númerico')\n",
    "\n",
    "   "
   ]
  },
  {
   "cell_type": "markdown",
   "metadata": {},
   "source": [
    "### 19.\n",
    "Um funcionário de uma empresa recebe aumento salarial anualmente: \n",
    "<br></br>\n",
    "Sabe-se que:\n",
    "- Esse funcionário foi contratado em 2005, com salário inicial de R$ 1.000,00;\n",
    "- Em 2006 recebeu aumento de 1,5% sobre seu salário inicial;\n",
    "- A partir de 2007 (inclusive), os aumentos salariais sempre correspondem\n",
    "ao dobro do percentual do ano anterior. Faça um programa que determine\n",
    "o salário atual desse funcionário. Após concluir isto, altere o programa\n",
    "permitindo que o usuário digite o salário inicial do funcionário."
   ]
  },
  {
   "cell_type": "code",
   "execution_count": 18,
   "metadata": {},
   "outputs": [
    {
     "name": "stdout",
     "output_type": "stream",
     "text": [
      "O salário atual do funcionário é R$492520.0\n"
     ]
    }
   ],
   "source": [
    "salInit = 1000\n",
    "ano = 2006\n",
    "anoAtual = 2022\n",
    "perc = 1.5/100\n",
    "\n",
    "while ano < anoAtual:\n",
    "    salAtual = salInit+(salInit*perc)\n",
    "    ano+=1\n",
    "    perc*=2\n",
    "print(f'O salário atual do funcionário é R${round(salAtual, 2)}')"
   ]
  },
  {
   "cell_type": "markdown",
   "metadata": {},
   "source": [
    "### 20.\n",
    "Faça um programa que leia seis conjuntos de dois valores, o primeiro\n",
    "representando o número do funcionário e o segundo representando a sua altura\n",
    "em centímetros. Encontre o funcionário mais alto e o mais baixo. Mostre o número\n",
    "do funcionário mais alto e o número do funcionário mais baixo, junto com suas alturas."
   ]
  },
  {
   "cell_type": "code",
   "execution_count": 1,
   "metadata": {},
   "outputs": [
    {
     "name": "stdout",
     "output_type": "stream",
     "text": [
      "Este número ja foi digitado\n",
      "Maior funcionário \n",
      "Número: 6 \n",
      "Altura: 249.0\n",
      "Menor funcionário \n",
      "Número: 2 \n",
      "Altura: 165.0\n"
     ]
    }
   ],
   "source": [
    "cod = []\n",
    "alt = []\n",
    "while True:\n",
    "    try:\n",
    "        for i in range(0,6):\n",
    "            codFunc = int(input(f'Digite o número do funcionário {i+1}: '))\n",
    "\n",
    "            while codFunc in cod:\n",
    "                print('Este número ja foi digitado')\n",
    "                codFunc = int(input(f'Digite outro número para o funcionário {i+1}: '))\n",
    "            altFunc = float(input(f'Digite a altura do funcionário {i+1}: '))\n",
    "\n",
    "            alt.append(altFunc)\n",
    "            cod.append(codFunc)\n",
    "        if min(alt)> 0 and max(alt) <250:\n",
    "            menor = alt.index(min(alt))\n",
    "            maior = alt.index(max(alt))\n",
    "\n",
    "            print(f'Maior funcionário \\nCódigo: {cod[maior]} \\nAltura: {max(alt)}')\n",
    "            print(f'Menor funcionário \\nCódigo: {cod[menor]} \\nAltura: {min(alt)}')\n",
    "            break\n",
    "        else:\n",
    "            print('Não existem pessoas maiores que 250cm e nem menores que 0!')\n",
    "    except:\n",
    "        print('Valores devem ser númericos')"
   ]
  },
  {
   "cell_type": "code",
   "execution_count": 12,
   "metadata": {},
   "outputs": [
    {
     "name": "stdout",
     "output_type": "stream",
     "text": [
      "Digite o número do funcionário: 1\n",
      "Digite a altura do funcionário: 200\n",
      "Digite o número do funcionário: 2\n",
      "Digite a altura do funcionário: 165\n",
      "Maior funcionário \n",
      "Número: 1 \n",
      "Altura: 200.0\n",
      "Menor funcionário \n",
      "Número: 2 \n",
      "Altura: 165.0\n"
     ]
    }
   ],
   "source": [
    "while True:\n",
    "    try:\n",
    "        dictAlt = {}\n",
    "        for i in range(0,2):\n",
    "            codFunc = int(input('Digite o número do funcionário: '))\n",
    "\n",
    "            while codFunc in dictAlt.keys():\n",
    "                print('Este número ja foi digitado')\n",
    "                codFunc = int(input('Digite outro número: '))\n",
    "            altFunc = float(input('Digite a altura do funcionário: '))\n",
    "            dictAlt[codFunc] = altFunc\n",
    "            for i in dictAlt:\n",
    "                if dictAlt[i] == max(dictAlt.values()):\n",
    "                    maiorAltCod = i\n",
    "            for j in dictAlt:\n",
    "                if dictAlt[j] == min(dictAlt.values()):\n",
    "                    menorAltCod = j\n",
    "        if min(dictAlt.values()) > 0 and max(dictAlt.values()) <250:            \n",
    "            maiorAlt = max(dictAlt.values())\n",
    "            menorAlt = min(dictAlt.values())\n",
    "\n",
    "            print(f'Maior funcionário \\nCódigo: {maiorAltCod} \\nAltura: {maiorAlt}')\n",
    "            print(f'Menor funcionário \\nCódigo: {menorAltCod} \\nAltura: {menorAlt}')\n",
    "            break\n",
    "        else:\n",
    "            print('Não existem pessoas maiores que 250cm e nem menores que 0!')\n",
    "    except:\n",
    "        print('Valor inválido!')"
   ]
  },
  {
   "cell_type": "code",
   "execution_count": null,
   "metadata": {},
   "outputs": [],
   "source": []
  }
 ],
 "metadata": {
  "kernelspec": {
   "display_name": "Python 3 (ipykernel)",
   "language": "python",
   "name": "python3"
  },
  "language_info": {
   "codemirror_mode": {
    "name": "ipython",
    "version": 3
   },
   "file_extension": ".py",
   "mimetype": "text/x-python",
   "name": "python",
   "nbconvert_exporter": "python",
   "pygments_lexer": "ipython3",
   "version": "3.9.12"
  },
  "vscode": {
   "interpreter": {
    "hash": "6f5583cf1d9466b5c27e75c89cc6b383bed5736d6b16c51c8074d8690011a952"
   }
  }
 },
 "nbformat": 4,
 "nbformat_minor": 2
}
