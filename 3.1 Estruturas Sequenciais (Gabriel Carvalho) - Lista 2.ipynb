{
 "cells": [
  {
   "cell_type": "markdown",
   "id": "3e141b45",
   "metadata": {},
   "source": [
    "### 1.Faça um programa que peça dois números e imprima o maior deles."
   ]
  },
  {
   "cell_type": "code",
   "execution_count": 1,
   "id": "f40eeb12",
   "metadata": {},
   "outputs": [
    {
     "name": "stdout",
     "output_type": "stream",
     "text": [
      "Digite um número: 2\n",
      "Digite outro número: 2\n",
      "Os valores são iguais.\n"
     ]
    }
   ],
   "source": [
    "num1 = float(input('Digite um número: '))\n",
    "num2 = float(input('Digite outro número: '))\n",
    "\n",
    "if num1 > num2:\n",
    "    print(f'\\nO número {num1} é maior.')\n",
    "elif num1 == num2:\n",
    "    print('\\nOs valores são iguais.')\n",
    "else:\n",
    "    print(f'\\nO número {num2} é maior.')"
   ]
  },
  {
   "cell_type": "markdown",
   "id": "318a4568",
   "metadata": {},
   "source": [
    "### 2.Faça um programa que peça um valor e mostre na tela se o valor é positivo ou negativo."
   ]
  },
  {
   "cell_type": "code",
   "execution_count": 2,
   "id": "de977aa9",
   "metadata": {},
   "outputs": [
    {
     "name": "stdout",
     "output_type": "stream",
     "text": [
      "Digite um número: -8\n",
      "\n",
      "O número -8.0 é negativo.\n"
     ]
    }
   ],
   "source": [
    "num = float(input('Digite um número: '))\n",
    "\n",
    "if num > 0:\n",
    "    print(f'\\nO número {num} é positivo.')\n",
    "elif num == 0:\n",
    "    print(f'\\nO número {num} é neutro')\n",
    "else:\n",
    "    print(f'\\nO número {num} é negativo.')"
   ]
  },
  {
   "cell_type": "markdown",
   "id": "cada7e61",
   "metadata": {},
   "source": [
    "<h3>3. Faça um programa que se uma letra digitada é “F” ou “M”. \n",
    "</br>Conforme a letra escrever: F – Feminino, M – Masculino, Sexo inválido.</h3>"
   ]
  },
  {
   "cell_type": "code",
   "execution_count": 3,
   "id": "4e499e71",
   "metadata": {},
   "outputs": [
    {
     "name": "stdout",
     "output_type": "stream",
     "text": [
      "Digite qual o seu sexo F ou M: m\n",
      "\n",
      "Masculino\n"
     ]
    }
   ],
   "source": [
    "sexo = input('Digite qual o seu sexo F ou M: ')\n",
    "\n",
    "if sexo.upper() == 'M':\n",
    "    print('\\nSeu sexo é masculino')\n",
    "elif sexo.upper() == 'F':\n",
    "    print('\\nSeu sexo é feminino')\n",
    "else:\n",
    "    print('\\nSexo inválido.')\n"
   ]
  },
  {
   "cell_type": "markdown",
   "id": "e0554128",
   "metadata": {},
   "source": [
    "### 4. Faça um programa para verificar se uma letra digitada é vogal ou consoante. "
   ]
  },
  {
   "cell_type": "code",
   "execution_count": 4,
   "id": "2de33900",
   "metadata": {},
   "outputs": [
    {
     "name": "stdout",
     "output_type": "stream",
     "text": [
      "Digite uma letra: a\n",
      "\n",
      "A letra a é uma vogal.\n"
     ]
    }
   ],
   "source": [
    "letra = input('Digite uma letra: ')\n",
    "\n",
    "if letra.isalpha() == True:\n",
    "    if letra.lower() in ('a','e','i','o','u'):\n",
    "        print(f\"\\nA letra '{letra}' é uma vogal.\")\n",
    "    else:\n",
    "        print(f\"\\nA letra '{letra}' é uma consoante.\")\n",
    "else:\n",
    "    print('\\nDigite somente uma letra!')"
   ]
  },
  {
   "cell_type": "markdown",
   "id": "a8c40d83",
   "metadata": {},
   "source": [
    "### 5. Faça um programa para leitura de duas notas parciais de um aluno. O programa deve calcular a média alcançada por aluno e apresentar: \n",
    "\n",
    "- A mensagem \"Aprovado\", se a média alcançada for maior ou igual a sete;\n",
    "\n",
    "- A mensagem \"Reprovado\", se a média for menor do que sete;\n",
    "\n",
    "- A mensagem \"Aprovado com Distinção\", se a média for igual a dez."
   ]
  },
  {
   "cell_type": "code",
   "execution_count": 5,
   "id": "f19a459c",
   "metadata": {},
   "outputs": [
    {
     "name": "stdout",
     "output_type": "stream",
     "text": [
      "Digite a primeira nota: 10\n",
      "Digite a segunda nota: 6\n",
      "\n",
      "Aprovado com média 8.0\n"
     ]
    }
   ],
   "source": [
    "nota1 = float(input('Digite a primeira nota: '))\n",
    "nota2 = float(input('Digite a segunda nota: '))\n",
    "\n",
    "if nota1 >= 0 and nota1 <=10 and nota2 >=0 and nota2 <=10:\n",
    "    media = (nota1+nota2)/2\n",
    "\n",
    "    if media >= 7:\n",
    "        print(f'\\nAprovado com média {media}')\n",
    "    elif media < 7:\n",
    "        print(f'\\nReprovado com média {media}')\n",
    "    elif media == 10:\n",
    "        print(f'\\nAprovado com Distinçao sendo sua média {media}')\n",
    "else:\n",
    "    print('\\nNão é possivel a nota ser negativa, uma letra ou maior que 10.')"
   ]
  },
  {
   "cell_type": "markdown",
   "id": "4364eb94",
   "metadata": {},
   "source": [
    "### 6. Faça um programa que leia três números e mostre o maior deles."
   ]
  },
  {
   "cell_type": "code",
   "execution_count": 8,
   "id": "bebc6852",
   "metadata": {},
   "outputs": [
    {
     "name": "stdout",
     "output_type": "stream",
     "text": [
      "Digite o 1° número: 4\n",
      "Digite o 2° número: 6\n",
      "Digite o 3° número: 5\n",
      "\n",
      "O número 6.0 é o maior.\n"
     ]
    }
   ],
   "source": [
    "num1 = float(input('Digite o 1° número: '))\n",
    "num2 = float(input('Digite o 2° número: '))\n",
    "num3 = float(input('Digite o 3° número: '))\n",
    "\n",
    "if num1 == num2 == num3:\n",
    "    print('\\nOs valores são iguais')\n",
    "elif num1 > num2 and num1 >num3:\n",
    "    print(f'\\nO número {num1} é o maior.')\n",
    "elif num2 > num3:\n",
    "    print(f'\\nO número {num2} é o maior.')\n",
    "else:\n",
    "    print(f'\\nO número {num3} é o maior.')"
   ]
  },
  {
   "cell_type": "markdown",
   "id": "240dc460",
   "metadata": {},
   "source": [
    "### 7. Faça um programa que leia  três números e mostra o maior e o menor deles."
   ]
  },
  {
   "cell_type": "code",
   "execution_count": 11,
   "id": "851ad9e6",
   "metadata": {},
   "outputs": [
    {
     "name": "stdout",
     "output_type": "stream",
     "text": [
      "Digite o 1° número: 1\n",
      "Digite o 2° número: 1\n",
      "Digite o 3° número: 1\n",
      "\n",
      "Os valores são iguais\n"
     ]
    }
   ],
   "source": [
    "num1 = float(input('Digite o 1° número: '))\n",
    "num2 = float(input('Digite o 2° número: '))\n",
    "num3 = float(input('Digite o 3° número: '))\n",
    "\n",
    "if num1 == num2 == num3:\n",
    "    print('\\nOs valores são iguais')\n",
    "elif num1 < num2 and num1 < num3:\n",
    "    print(f'\\nO número {num1} é o menor.')\n",
    "elif num2 < num3:\n",
    "    print(f'\\nO número {num2} é o menor.')\n",
    "else:\n",
    "    print(f'\\nO número {num3} é o menor.')"
   ]
  },
  {
   "cell_type": "markdown",
   "id": "6ceab40b",
   "metadata": {},
   "source": [
    "### 8. Faça um programa que pergunte o preço de três produtos e informe qual produto você deve comprar, sabendo que a decisão é sempre pelo mais barato."
   ]
  },
  {
   "cell_type": "code",
   "execution_count": 13,
   "id": "eabdb487",
   "metadata": {},
   "outputs": [
    {
     "name": "stdout",
     "output_type": "stream",
     "text": [
      "Digite o preço do 1° produto: 5\n",
      "Digite o preço do 2° produto: 5\n",
      "Digite o preço do 3° produto: 5\n",
      "\n",
      "O preço dos 3 produtos são iguais, compre o que gostar mais!\n"
     ]
    }
   ],
   "source": [
    "prod1 = float(input('Digite o preço do 1° produto: '))\n",
    "prod2 = float(input('Digite o preço do 2° produto: '))\n",
    "prod3 = float(input('Digite o preço do 3° produto: '))\n",
    "\n",
    "if prod1 == prod2 == prod3:\n",
    "    print('\\nO preço dos 3 produtos são iguais, compre o que gostar mais!')\n",
    "elif prod1 < prod2 and prod1 < prod3:\n",
    "    print(f'\\nVocê deverá comprar o 1° produto com preço de R${prod1}.')\n",
    "elif prod2 < prod3:\n",
    "    print(f'\\nVocê deverá comprar o 2° produto com preço de R${prod2}.')\n",
    "else:\n",
    "    print(f'\\nVocê deverá comprar o 3° produto com preço de R${prod3}.')"
   ]
  },
  {
   "cell_type": "markdown",
   "id": "43439d5f",
   "metadata": {},
   "source": [
    "### 9. Faça um Programa que leia três números e mostre-os em ordem decrescente.​"
   ]
  },
  {
   "cell_type": "code",
   "execution_count": 15,
   "id": "444e375e",
   "metadata": {},
   "outputs": [
    {
     "name": "stdout",
     "output_type": "stream",
     "text": [
      "Digite o 1° número: 5\n",
      "Digite o 2° número: 9\n",
      "Digite o 3° número: 6\n",
      "[9.0, 6.0, 5.0]\n"
     ]
    }
   ],
   "source": [
    "num1 = float(input('Digite o 1° número: '))\n",
    "num2 = float(input('Digite o 2° número: '))\n",
    "num3 = float(input('Digite o 3° número: '))\n",
    "\n",
    "list = [num1,num2,num3]\n",
    "list.sort(reverse=True)\n",
    "print(list)"
   ]
  },
  {
   "cell_type": "markdown",
   "id": "605caadf",
   "metadata": {},
   "source": [
    "   ### 10. As Organizações Tabajara resolveram dar um aumento de salário aos seus colaboradores e você foi contratado para desenvolver o programa que calculará os reajustes.​\n",
    "\n",
    "   ### Faça um programa que recebe o salário de um colaborador e o reajuste segundo o seguinte critério, baseado no salário atual:\n",
    "\n",
    "    - salários até R$ 250,00 (incluindo) : aumento de 13%.\n",
    "\n",
    "    - salários entre R$ 250,00 e R$ 600,00 : aumento de 17%.\n",
    "\n",
    "    - salários entre R$ 600,00 e R$ 1400,00 : aumento de 9%.\n",
    "\n",
    "    - salários de R$ 1400,00 em diante : aumento de 7% Após o aumento ser realizado, informe na tela:​\n",
    "\n",
    "    - o salário antes do reajuste;​\n",
    "\n",
    "    - o percentual de aumento aplicado;​\n",
    "\n",
    "    - o valor do aumento;​\n",
    "\n",
    "    - o novo salário, após o aumento."
   ]
  },
  {
   "cell_type": "code",
   "execution_count": 18,
   "id": "481466c4",
   "metadata": {},
   "outputs": [
    {
     "name": "stdout",
     "output_type": "stream",
     "text": [
      "Digite o seu salário atual: 1800\n",
      "\n",
      "Antes do reajuste seu salário era de R$1800.0\n",
      "O percentual de aumento foi de 7%\n",
      "O valor do aumento foi de R$126\n",
      "\n",
      "Seu novo salário é de R$1926.0.\n"
     ]
    }
   ],
   "source": [
    "sal = float(input('Digite o seu salário atual: '))\n",
    "\n",
    "def mostraSal():\n",
    "    print(f'\\nAntes do reajuste seu salário era de R${round(sal, 2)}')\n",
    "    print(f'O percentual de aumento foi de {round(aum*100)}%')\n",
    "    print(f'O valor do aumento foi de R${round(sal*aum)}')\n",
    "    print(f'\\nSeu novo salário é de R${round(salNovo, 2)}.')\n",
    "\n",
    "if sal > 0:\n",
    "    if sal <= 250:\n",
    "        aum = 13/100\n",
    "        salNovo = sal + (sal*aum)\n",
    "        \n",
    "        mostraSal()\n",
    "    elif sal < 600:\n",
    "        aum = 17/100\n",
    "        salNovo = sal + (sal*aum)\n",
    "\n",
    "        mostraSal()\n",
    "    elif sal < 1400:\n",
    "        aum = 9/100\n",
    "        salNovo = sal + (sal*aum)\n",
    "        \n",
    "        mostraSal()\n",
    "    else: \n",
    "        aum = 7/100\n",
    "        salNovo = sal + (sal*aum)\n",
    "        \n",
    "        mostraSal()\n",
    "        \n",
    "else:\n",
    "    print('Salário deve ser maior que zero!')"
   ]
  },
  {
   "cell_type": "markdown",
   "id": "408f0f4f",
   "metadata": {},
   "source": [
    "### 11. Faça um Programa que leia um número e exiba o dia correspondente da semana. (1-Domingo, 2- Segunda, etc.), se digitar outro valor deve aparecer valor inválido.​"
   ]
  },
  {
   "cell_type": "code",
   "execution_count": 27,
   "id": "efc6da43",
   "metadata": {},
   "outputs": [
    {
     "name": "stdout",
     "output_type": "stream",
     "text": [
      "Digite um número de 1 a 7: 1\n",
      "\n",
      "Domingo\n"
     ]
    }
   ],
   "source": [
    "num = int(input('Digite um número de 1 a 7: '))\n",
    "\n",
    "if num == 1:\n",
    "    print('\\nDomingo')\n",
    "elif num == 2:\n",
    "    print('\\nSegunda')\n",
    "elif num == 3:\n",
    "    print('\\nTerça')\n",
    "elif num == 4:\n",
    "    print('\\nQuarta')\n",
    "elif num == 5:\n",
    "    print('\\nQuinta')\n",
    "elif num == 6:\n",
    "    print('\\nSexta!!')\n",
    "elif num == 7:\n",
    "    print('\\nSábado')\n",
    "else: \n",
    "    print('\\nValor inválido')"
   ]
  },
  {
   "cell_type": "markdown",
   "id": "ce7edc8c",
   "metadata": {},
   "source": [
    "### 12. Faça um programa que lê as duas notas parciais obtidas por um aluno numa disciplina ao longo de um semestre, e calcule a sua média. A atribuição de conceitos obedece à tabela abaixo:\n",
    "\n",
    "                                Média de Aproveitamento  Conceito​\n",
    "\n",
    "                                  Entre 9.0 e 10.0          A​\n",
    "\n",
    "                                  Entre 7.5 e 9.0           B​\n",
    "\n",
    "                                  Entre 6.0 e 7.5           C​\n",
    "\n",
    "                                  Entre 4.0 e 6.0           D​\n",
    "\n",
    "                                  Entre 4.0 e zero          E​\n",
    "\n",
    "#### O algoritmo deve mostrar na tela as notas, a média, o conceito correspondente e a mensagem “APROVADO, parabéns!” se o conceito for A, B ou C ou “REPROVADO, estude mais.” se o conceito for D ou E"
   ]
  },
  {
   "cell_type": "code",
   "execution_count": 28,
   "id": "ce1d5fa4",
   "metadata": {},
   "outputs": [
    {
     "name": "stdout",
     "output_type": "stream",
     "text": [
      "Digite a nota 1: 8\n",
      "Digite a nota 2: 9\n",
      "\n",
      "Sua média foi de 8.5\n",
      "Seu conceito foi B\n",
      "APROVADO, parabéns!\n"
     ]
    }
   ],
   "source": [
    "nota1 = float(input('Digite a nota 1: '))\n",
    "nota2 = float(input('Digite a nota 2: '))\n",
    "\n",
    "media = (nota1+nota2)/2\n",
    "if media >=0:\n",
    "    if media >= 9 and media <=10:\n",
    "        conceito = 'A'\n",
    "    elif media >= 7.5:\n",
    "        conceito = 'B'\n",
    "    elif media >= 6:\n",
    "        conceito = 'C'\n",
    "    elif media >= 4:\n",
    "        conceito = 'D'\n",
    "    elif media >= 0:\n",
    "        conceito = 'E'\n",
    "        \n",
    "    if conceito in ['A','B', 'C']:\n",
    "        print(f'\\nSua média foi de {media}')\n",
    "        print(f'Seu conceito foi {conceito}')\n",
    "        print('APROVADO, parabéns!')\n",
    "    else:\n",
    "        print(f'\\nSua média foi de {media}')\n",
    "        print(f'Seu conceito foi {conceito}')\n",
    "        print('REPROVADO, estude mais.')\n",
    "else:\n",
    "    print('Média não tem como ser menor que zero!')"
   ]
  },
  {
   "cell_type": "markdown",
   "id": "d3e6b495",
   "metadata": {},
   "source": [
    "### 13. Faça um Programa que peça os 3 lados de um triângulo. O programa deverá informar se os valores podem ser um triângulo. Indique, caso os lados formem um triângulo, se o mesmo é: equilátero, isósceles ou escaleno.​\n",
    "\n",
    "Dicas:​\n",
    "\n",
    "- Três lados formam um triângulo quando a soma de quaisquer dois lados for maior que o terceiro;​\n",
    "\n",
    "- Triângulo Equilátero: três lados iguais;​\n",
    "\n",
    "- Triângulo Isósceles: quaisquer dois lados iguais;​\n",
    "\n",
    "- Triângulo Escaleno: três lados diferentes;"
   ]
  },
  {
   "cell_type": "code",
   "execution_count": 30,
   "id": "5aebe396",
   "metadata": {},
   "outputs": [
    {
     "name": "stdout",
     "output_type": "stream",
     "text": [
      "Digite o primeiro lado do triângulo: 8\n",
      "Digite o segundo lado do triângulo: 9\n",
      "Digite o terceiro lado do triângulo: 20\n",
      "\n",
      "Nao é um triangulo\n"
     ]
    }
   ],
   "source": [
    "lado1 = float(input('Digite o primeiro lado do triângulo: '))\n",
    "lado2 = float(input('Digite o segundo lado do triângulo: '))\n",
    "lado3 = float(input('Digite o terceiro lado do triângulo: '))\n",
    "\n",
    "if lado1 > 0 and lado2 > 0 and lado3 > 0:\n",
    "    if(lado1 + lado2 < lado3) or (lado1 + lado3 < lado2) or (lado2 + lado3 < lado1):\n",
    "        print('\\nNao é um triangulo')\n",
    "    elif(lado1 == lado2) and (lado1 == lado3):\n",
    "        print('\\nEsse triângulo é equilatero')\n",
    "    elif(lado1==lado2) or (lado1==lado3) or (lado2==lado3):\n",
    "        print('\\nEsse triângulo é isósceles')\n",
    "    else:\n",
    "        print('\\nEsse triângulo é escaleno')\n",
    "else:\n",
    "    print('\\nLados de um triângulo não podem ser zero!')"
   ]
  },
  {
   "cell_type": "markdown",
   "id": "b168b480",
   "metadata": {},
   "source": [
    "### 14. Faça um programa que calcule as raízes de uma equação do segundo grau, na forma ax2 + bx + c. O programa deverá pedir os valores de a, b e c e fazer as consistências, informando ao usuário nas seguintes situações:​\n",
    "\n",
    "Se o usuário informar o valor de A igual a zero, a equação não é do segundo grau e o programa não deve fazer pedir os demais valores, sendo encerrado;​\n",
    "\n",
    "Se o delta calculado for negativo, a equação não possui raizes reais. Informe ao usuário e encerre o programa;​\n",
    "\n",
    "Se o delta calculado for igual a zero a equação possui apenas uma raiz real; informe-a ao usuário;​\n",
    "\n",
    "Se o delta for positivo, a equação possui duas raiz reais; informe-as ao usuário;"
   ]
  },
  {
   "cell_type": "code",
   "execution_count": 31,
   "id": "27820400",
   "metadata": {},
   "outputs": [
    {
     "name": "stdout",
     "output_type": "stream",
     "text": [
      "Digite o valor de a: -9\n",
      "Digite o valor de b: 5\n",
      "Digite o valor de c: 1\n",
      "\n",
      "A equação possui duas raizes reais\n"
     ]
    }
   ],
   "source": [
    "a = float(input('Digite o valor de a: '))\n",
    "\n",
    "if a != 0:\n",
    "    b = float(input('Digite o valor de b: '))\n",
    "    c = float(input('Digite o valor de c: '))\n",
    "\n",
    "    delta = b**2- 4*a*c\n",
    "    \n",
    "    if delta > 0:\n",
    "        print('\\nA equação possui duas raizes reais')\n",
    "    elif delta == 0:\n",
    "        print('\\nA equação possui uma raiz real')\n",
    "    else: \n",
    "        print('\\nEquação não possui raizes reais')\n",
    "    \n",
    "else:\n",
    "    print('\\nEquação não é do segundo grau')"
   ]
  },
  {
   "cell_type": "markdown",
   "id": "9c66d559",
   "metadata": {},
   "source": [
    "### 15. Faça um Programa que peça um número correspondente a um determinado ano e em seguida informe se este ano é ou não bissexto.​"
   ]
  },
  {
   "cell_type": "code",
   "execution_count": 32,
   "id": "4973e1aa",
   "metadata": {},
   "outputs": [
    {
     "name": "stdout",
     "output_type": "stream",
     "text": [
      "Informe um ano: 1910\n",
      "\n",
      "O ano de 1910 não é bissexto.\n"
     ]
    }
   ],
   "source": [
    "ano = int(input('Informe um ano: '))\n",
    "\n",
    "if ano % 4 == 0 and ano % 100 != 0 or ano % 400 == 0:\n",
    "    print(f'\\nO ano de {ano} é bissexto.')\n",
    "else:\n",
    "    print(f'\\nO ano de {ano} não é bissexto.')"
   ]
  },
  {
   "cell_type": "markdown",
   "id": "3af1af10",
   "metadata": {},
   "source": [
    "### 16. Faça um Programa que peça uma data no formato dd-mm-aaaa e determine se a mesma é uma data válida.​"
   ]
  },
  {
   "cell_type": "code",
   "execution_count": 33,
   "id": "a75c7d8b",
   "metadata": {},
   "outputs": [
    {
     "name": "stdout",
     "output_type": "stream",
     "text": [
      "Digite um dia: 01\n",
      "Digite um mês: 12\n",
      "Digite um ano: 1915\n",
      "\n",
      "A data de 1-12-1915 é válida!\n"
     ]
    }
   ],
   "source": [
    "dia = int(input('Digite um dia: '))\n",
    "mes = int(input('Digite um mês: '))\n",
    "ano = int(input('Digite um ano: '))\n",
    "\n",
    "if mes > 0 and dia > 0 and ano >= 0:\n",
    "    if mes in [1,3,5,7,8,10,12]:\n",
    "        if dia <=31:\n",
    "            print(f'\\nA data de {dia}-{mes}-{ano} é válida!')\n",
    "        else:\n",
    "            print(f'\\nA data de {dia}-{mes}-{ano} é inválida!')\n",
    "    elif mes in [4,6,9,11]:\n",
    "        if dia <=30:\n",
    "            print(f'\\nA data de {dia}-{mes}-{ano} é válida!')\n",
    "        else:\n",
    "            print(f'\\nA data de {dia}-{mes}-{ano} é inválida!')\n",
    "    elif mes == 2:\n",
    "        if ano % 4 == 0 and ano % 100 != 0 or ano % 400 == 0:\n",
    "            if dia <= 29:\n",
    "                print(f'\\nA data de {dia}-{mes}-{ano} é válida!')\n",
    "        elif dia <=28:\n",
    "            print(f'\\nA data de {dia}-{mes}-{ano} é válida!')\n",
    "        else:\n",
    "            print(f'\\nA data de {dia}-{mes}-{ano} é inválida!')\n",
    "else:\n",
    "    print('\\nNão é possível data menor que zero!')"
   ]
  },
  {
   "cell_type": "markdown",
   "id": "2bc1f94c",
   "metadata": {},
   "source": [
    "### 17.Faça um Programa que leia um número inteiro menor que 1000 e imprima a quantidade de centenas, dezenas e unidades do mesmo.​\n",
    "\n",
    "Observando os termos no plural a colocação do \"e\", da vírgula entre outros. Exemplo:​\n",
    "\n",
    "326 = 3 centenas, 2 dezenas e 6 unidades​\n",
    "\n",
    "12 = 1 dezena e 2 unidades Testar com: 326, 300, 100, 320, 310,305, 301, 101, 311, 111, 25, 20, 10, 21, 11, 1, 7 e 16"
   ]
  },
  {
   "cell_type": "code",
   "execution_count": 52,
   "id": "7d36c625",
   "metadata": {},
   "outputs": [
    {
     "name": "stdout",
     "output_type": "stream",
     "text": [
      "Digite um número inteiro menor que 1000: 16\n",
      "\n",
      "1 dezenas e 6 unidades.\n"
     ]
    }
   ],
   "source": [
    "import math\n",
    "\n",
    "num = int(input('Digite um número inteiro menor que 1000: '))\n",
    "\n",
    "if num > 0 and  num <1000:\n",
    "    unidades = num % 10\n",
    "    num = (num - unidades)/10\n",
    "    dezenas = num % 10\n",
    "    num = (num - dezenas)/10\n",
    "    centenas = num\n",
    "    \n",
    "    if centenas != 0:\n",
    "        print(f'\\n{round(centenas)} centenas, {round(dezenas)} dezenas e {round(unidades)} unidades.')\n",
    "    elif dezenas != 0: \n",
    "        print(f'\\n{round(dezenas)} dezenas e {round(unidades)} unidades.')\n",
    "    else: \n",
    "        print(f'\\n{unidades} unidades.')\n",
    "else:\n",
    "    print('\\nNúmero inválido')"
   ]
  },
  {
   "cell_type": "markdown",
   "id": "aa0b1725",
   "metadata": {},
   "source": [
    "   ### 18.O Hipermercado Ferreirinha está com uma promoção de carnes que é imperdível. Confira:\n",
    "\n",
    "                        Até 8 Kg             Acima de 8 Kg\n",
    "\n",
    "    File Mignon      R$ 7,20 por Kg          R$ 6,60 por Kg\n",
    "    Linguiça         R$ 8,90 por Kg          R$ 8,80 por Kg\n",
    "    Frango           R$ 3,90 por Kg          R$ 3,70 por Kg\n",
    "\n",
    "\n",
    "   #### Para atender a todos os clientes, cada cliente poderá levar apenas um dos tipos de carne da promoção, porém não há limites para a quantidade de carne por cliente. Se compra for feita no cartão Ferreirinha o cliente receberá ainda um desconto de 3% sobre o total da compra. Escreva um programa que peça o tipo e a quantidade de carne comprada pelo usuário e gere um cupom fiscal, contendo as informações da compra: tipo e quantidade de carne, preço total, tipo de pagamento, valor do desconto e valor a pagar."
   ]
  },
  {
   "cell_type": "code",
   "execution_count": 59,
   "id": "ebbf20f5",
   "metadata": {},
   "outputs": [
    {
     "name": "stdout",
     "output_type": "stream",
     "text": [
      "Qual tipo de carne você vai querer? \n",
      "1-File Mignon, 2- Linguiça, 3- Frango 3\n",
      "Quantos Kg você vai levar? 16\n",
      "Qual forma de pagamento? \n",
      "1-Débito/Crédito 2-Cartão Ferreirinha 2\n",
      "\n",
      "O tipo de carne é Frango.\n",
      "A quantidade de carne é de 16.0Kg.\n",
      "O preço do Kg de Frango é de R$3.7\n",
      "O preço total da compra é de R$59.2\n",
      "O tipo de pagamento é Cartão Ferreirinha\n",
      "O valor de desconto é de 1.78\n",
      "O valor com desconto a pagar é de R$57.42\n"
     ]
    }
   ],
   "source": [
    "tipoCarne = int(input('Qual tipo de carne você vai querer? \\n1-File Mignon, 2- Linguiça, 3- Frango '))\n",
    "desconto = 3/100\n",
    "if tipoCarne in [1,2,3]:\n",
    "    qtd = float(input('Quantos Kg você vai levar? '))\n",
    "    if qtd > 0:\n",
    "        tipoPagamento = int(input('Qual forma de pagamento? \\n1-Débito/Crédito 2-Cartão Ferreirinha '))\n",
    "        if tipoPagamento in [1,2]:\n",
    "            def notaFiscal1():\n",
    "                print(f'\\nO tipo de carne é {tipoCarne}.')\n",
    "                print(f'A quantidade de carne é de {qtd}Kg.')\n",
    "                print(f'O preço do Kg de {tipoCarne} é de R${preco}')\n",
    "                print(f'O preço total da compra é de R${round(valor, 2)}')\n",
    "                print(f'O tipo de pagamento é {tipoPagamento}')\n",
    "                print(f'O valor total a pagar é de R${round(valor, 2)}')\n",
    "                \n",
    "            def notaFiscal2():        \n",
    "                print(f'\\nO tipo de carne é {tipoCarne}.')\n",
    "                print(f'A quantidade de carne é de {qtd}Kg.')\n",
    "                print(f'O preço do Kg de {tipoCarne} é de R${preco}')\n",
    "                print(f'O preço total da compra é de R${round(valor, 2)}')\n",
    "                print(f'O tipo de pagamento é {tipoPagamento}')\n",
    "                print(f'O valor de desconto é de {round(valor*desconto, 2)}')\n",
    "                print(f'O valor com desconto a pagar é de R${round(valorTotal, 2)}')\n",
    "                \n",
    "            ##CARNE TIPO FILE MIGNON    \n",
    "            if tipoCarne == 1:\n",
    "                tipoCarne = 'Filé Mignon'\n",
    "                if qtd <= 8:\n",
    "                    preco = 7.20\n",
    "                    if tipoPagamento == 1:\n",
    "                        tipoPagamento = 'Débito/Crédito'\n",
    "                        valor = (qtd*preco)\n",
    "                        notaFiscal1()\n",
    "                    elif tipoPagamento ==2:\n",
    "                        tipoPagamento = 'Cartão Ferreirinha'\n",
    "                        valor = (qtd*preco)\n",
    "                        valorTotal = (qtd*preco) - ((qtd*preco)*desconto)\n",
    "                        notaFiscal2()\n",
    "                    else:\n",
    "                        print('Forma de pagamento inválida!')\n",
    "                else:\n",
    "                    preco = 6.60\n",
    "                    if tipoPagamento == 1:\n",
    "                        tipoPagamento = 'Débito/Crédito'\n",
    "                        valor = (qtd*preco)\n",
    "                        notaFiscal1()\n",
    "                    elif tipoPagamento ==2:\n",
    "                        tipoPagamento = 'Cartão Ferreirinha'\n",
    "                        valor = (qtd*preco)\n",
    "                        valorTotal = (qtd*preco) - ((qtd*preco)*desconto)\n",
    "                        notaFiscal2()\n",
    "                    else:\n",
    "                        print('Forma de pagamento inválida!')\n",
    "                        \n",
    "            ## CARNE TIPO LINGUIÇA            \n",
    "            elif tipoCarne == 2:\n",
    "                tipoCarne = 'Linguiça'\n",
    "                if qtd <= 8:\n",
    "                    preco = 8.90\n",
    "                    if tipoPagamento == 1:\n",
    "                        tipoPagamento = 'Débito/Crédito'\n",
    "                        valor = (qtd*preco)\n",
    "                        notaFiscal1()\n",
    "                    elif tipoPagamento ==2:\n",
    "                        tipoPagamento = 'Cartão Ferreirinha'\n",
    "                        valor = (qtd*preco)\n",
    "                        valorTotal = (qtd*preco) - ((qtd*preco)*desconto)\n",
    "                        notaFiscal2()\n",
    "                    else:\n",
    "                        print('Forma de pagamento inválida!')\n",
    "                else:\n",
    "                    preco = 8.80\n",
    "                    if tipoPagamento == 1:\n",
    "                        tipoPagamento = 'Débito/Crédito'\n",
    "                        valor = (qtd*preco)\n",
    "                        notaFiscal1()\n",
    "                    elif tipoPagamento ==2:\n",
    "                        tipoPagamento = 'Cartão Ferreirinha'\n",
    "                        valor = (qtd*preco)\n",
    "                        valorTotal = (qtd*preco) - ((qtd*preco)*desconto)\n",
    "                        notaFiscal2()\n",
    "                    else:\n",
    "                        print('Forma de pagamento inválida!')\n",
    "                        \n",
    "            ##CARNE TIPO FRANGO\n",
    "            else:\n",
    "                tipoCarne = 'Frango'\n",
    "                if qtd <= 8:\n",
    "                    preco = 3.90\n",
    "                    if tipoPagamento == 1:\n",
    "                        tipoPagamento = 'Débito/Crédito'\n",
    "                        valor = (qtd*preco)\n",
    "                        notaFiscal1()\n",
    "                    elif tipoPagamento ==2:\n",
    "                        tipoPagamento = 'Cartão Ferreirinha'\n",
    "                        valor = (qtd*preco)\n",
    "                        valorTotal = (qtd*preco) - ((qtd*preco)*desconto)\n",
    "                        notaFiscal2()\n",
    "                    else:\n",
    "                        print('Forma de pagamento inválida!')\n",
    "                else:\n",
    "                    preco = 3.70\n",
    "                    if tipoPagamento == 1:\n",
    "                        tipoPagamento = 'Débito/Crédito'\n",
    "                        valor = (qtd*preco)\n",
    "                        notaFiscal1()\n",
    "                    elif tipoPagamento ==2:\n",
    "                        tipoPagamento = 'Cartão Ferreirinha'\n",
    "                        valor = (qtd*preco)\n",
    "                        valorTotal = (qtd*preco) - ((qtd*preco)*desconto)\n",
    "                        notaFiscal2()\n",
    "                    else:\n",
    "                        print('Forma de pagamento inválida!')\n",
    "            \n",
    "        else:\n",
    "            print('Tipo de pagamento inválido')\n",
    "    else: \n",
    "        print('Quantidade a levar não tem como ser menor que zero!')\n",
    "else:\n",
    "    print('Tipo de carne inexistente')"
   ]
  },
  {
   "cell_type": "markdown",
   "id": "17aa6887",
   "metadata": {},
   "source": [
    "   ### 19. O Arthur está vendendo frutas com a seguinte tabela de preços:​\n",
    "\n",
    "                          Até 5 Kg              Acima de 5 Kg​\n",
    "\n",
    "    Manga              R$ 3,50 por Kg          R$ 3,20 por Kg​\n",
    "\n",
    "    Banana            R$ 2,80 por Kg           R$ 2,50 por Kg​\n",
    "\n",
    "    ​\n",
    "\n",
    "   #### Se o cliente comprar mais de 7 Kg em frutas ou o valor total da compra ultrapassar R$ 27,00, receberá ainda um desconto de 7% sobre este total. Escreva um algoritmo para ler a quantidade (em Kg) de morangos e a quantidade (em Kg) de maças adquiridas e escreva o valor a ser pago pelo cliente."
   ]
  },
  {
   "cell_type": "code",
   "execution_count": 60,
   "id": "d23a11e3",
   "metadata": {},
   "outputs": [
    {
     "name": "stdout",
     "output_type": "stream",
     "text": [
      "Quantos Kg de manga você irá querer? 3\n",
      "Quantos Kg de banana você irá querer? 2\n",
      "Você comprou 3.0Kg de manga e 2.0Kg de banana, totalizando 5.0Kg em frutas\n",
      "o valor que você deverá pagar é R$16.1.\n"
     ]
    }
   ],
   "source": [
    "qtdManga = float(input('Quantos Kg de manga você irá querer? '))\n",
    "qtdBanana = float(input('Quantos Kg de banana você irá querer? '))\n",
    "\n",
    "qtdTotal = (qtdManga + qtdBanana)\n",
    "\n",
    "if qtdTotal >0:\n",
    "    if qtdManga < 5:\n",
    "        preco = 3.50\n",
    "        valorManga = preco * qtdManga\n",
    "    else:\n",
    "        preco = 3.20\n",
    "        valorManga = preco * qtdManga\n",
    "    if qtdBanana < 5:\n",
    "        preco = 2.80\n",
    "        valorBanana = preco * qtdBanana\n",
    "    else:\n",
    "        preco = 2.50\n",
    "        valorBanana = preco * qtdBanana\n",
    "        \n",
    "    valorTotal = (valorBanana+valorManga)\n",
    "    \n",
    "    if qtdTotal > 7 or valorTotal > 27:\n",
    "        valorCompra = valorTotal - (valorTotal*0.07)\n",
    "        print('\\nVocê receberá desconto!')\n",
    "    else:\n",
    "        valorCompra = valorTotal\n",
    "    \n",
    "    print(f'Você comprou {qtdManga}Kg de manga e {qtdBanana}Kg de banana, totalizando {qtdTotal}Kg em frutas')\n",
    "    print(f'o valor que você deverá pagar é R${round(valorCompra, 2)}.')\n",
    "                  \n",
    "        \n",
    "else:\n",
    "    print('\\nPor favor digite uma quantia maior que zero! ')"
   ]
  },
  {
   "cell_type": "markdown",
   "id": "a6adae8d",
   "metadata": {},
   "source": [
    "### Faça um programa que faça 5 perguntas para uma pessoa sobre um crime. As perguntas são:​\n",
    "\n",
    "\"Telefonou para a vítima?\"​\n",
    "\n",
    "\"Esteve no local do crime?\"​\n",
    "\n",
    "\"Mora perto da vítima?\"​\n",
    "\n",
    "\"Devia para a vítima?\"​\n",
    "\n",
    "\"Já trabalhou com a vítima?\" ​\n",
    "\n",
    "#### O programa deve no final emitir uma classificação sobre a participação da pessoa no crime. Se a pessoa responder positivamente a 2 questões ela deve ser classificada como \"Suspeita\", entre 3 e 4 como \"Cúmplice\" e 5 como \"Assassino\". Caso contrário, ele será classificado como \"Inocente\"."
   ]
  },
  {
   "cell_type": "code",
   "execution_count": 61,
   "id": "0e2f741e",
   "metadata": {},
   "outputs": [
    {
     "name": "stdout",
     "output_type": "stream",
     "text": [
      "Telefonou para a vítima? 0-NÃO 1-SIM 0\n",
      "Esteve no local do crime? 0-NÃO 1-SIM 1\n",
      "Mora perto da vítima? 0-NÃO 1-SIM 1\n",
      "Devia para a vítima? 0-NÃO 1-SIM 1\n",
      "Já trabalhou com a vítima? 0-NÃO 1-SIM 1\n",
      "\n",
      "Após avaliar suas perguntas, concluimos que você é:\n",
      "Cúmplice\n"
     ]
    }
   ],
   "source": [
    "perg1 = int(input('Telefonou para a vítima? 0-NÃO 1-SIM '))\n",
    "if perg1 == 0 or perg1 == 1:\n",
    "    perg2 = int(input('Esteve no local do crime? 0-NÃO 1-SIM '))\n",
    "    if perg2 == 0 or perg2 == 1:\n",
    "        perg3 = int(input('Mora perto da vítima? 0-NÃO 1-SIM '))\n",
    "        if perg3 == 0 or perg3 == 1:\n",
    "            perg4 = int(input('Devia para a vítima? 0-NÃO 1-SIM '))\n",
    "            if perg4 == 0 or perg4 == 1:\n",
    "                perg5 = int(input('Já trabalhou com a vítima? 0-NÃO 1-SIM '))\n",
    "                if perg5 == 0 or perg5 == 1:\n",
    "\n",
    "                    somaPerg = (perg1+perg2+perg3+perg4+perg5)\n",
    "                    \n",
    "                    print('\\nApós avaliar suas perguntas, concluimos que você é:')\n",
    "                    if somaPerg == 2:\n",
    "                        print('Suspeito')\n",
    "                    elif somaPerg in [3,4]:\n",
    "                        print('Cúmplice')\n",
    "                    elif somaPerg == 5:\n",
    "                        print('Assassino')\n",
    "                    else:\n",
    "                        print('Inocente')\n",
    "                else:\n",
    "                    print('\\nResposta inválida para a perguta 5!')\n",
    "            else:\n",
    "                print('\\nResposta inválida para a perguta 4!')\n",
    "        else:\n",
    "            print('\\nResposta inválida para a perguta 3!')\n",
    "    else:\n",
    "        print('\\nResposta inválida para a perguta 2!')        \n",
    "else:\n",
    "    print('\\nResposta inválida para a perguta 1!')"
   ]
  },
  {
   "cell_type": "code",
   "execution_count": null,
   "id": "97399493",
   "metadata": {},
   "outputs": [],
   "source": []
  }
 ],
 "metadata": {
  "kernelspec": {
   "display_name": "Python 3 (ipykernel)",
   "language": "python",
   "name": "python3"
  },
  "language_info": {
   "codemirror_mode": {
    "name": "ipython",
    "version": 3
   },
   "file_extension": ".py",
   "mimetype": "text/x-python",
   "name": "python",
   "nbconvert_exporter": "python",
   "pygments_lexer": "ipython3",
   "version": "3.9.12"
  }
 },
 "nbformat": 4,
 "nbformat_minor": 5
}
