{
 "cells": [
  {
   "cell_type": "markdown",
   "id": "b4e51066",
   "metadata": {},
   "source": [
    "### 1.Faça um programa que peça um número e então mostre a mensagem ”O número informado foi [número]”."
   ]
  },
  {
   "cell_type": "code",
   "execution_count": 1,
   "id": "1e72425c",
   "metadata": {},
   "outputs": [
    {
     "name": "stdout",
     "output_type": "stream",
     "text": [
      "Digite um numero: 5\n",
      "\n",
      "O número informado foi 5.0.\n"
     ]
    }
   ],
   "source": [
    "num = float(input('Digite um numero: '))\n",
    "\n",
    "print(f'\\nO número informado foi {num}.')"
   ]
  },
  {
   "cell_type": "markdown",
   "id": "2c89d696",
   "metadata": {},
   "source": [
    "### 2.Faça um programa que peça dois números e imprima a soma. "
   ]
  },
  {
   "cell_type": "code",
   "execution_count": 2,
   "id": "a20ee83f",
   "metadata": {},
   "outputs": [
    {
     "name": "stdout",
     "output_type": "stream",
     "text": [
      "Digite o primeiro número: 10\n",
      "Digite o segundo número: 15\n",
      "A soma entre 10 e 15 é igual à 25\n"
     ]
    }
   ],
   "source": [
    "num1 = int(input('Digite o primeiro número: '))\n",
    "num2 = int(input('Digite o segundo número: '))\n",
    "\n",
    "soma = num1 + num2\n",
    "\n",
    "print(f'A soma entre {num1} e {num2} é igual à {soma}')"
   ]
  },
  {
   "cell_type": "markdown",
   "id": "d93b8e9e",
   "metadata": {},
   "source": [
    "### 3.Faça um programa que peça as 4 notas bimestrais e mostre a média. "
   ]
  },
  {
   "cell_type": "code",
   "execution_count": 3,
   "id": "28e42f74",
   "metadata": {},
   "outputs": [
    {
     "name": "stdout",
     "output_type": "stream",
     "text": [
      "Digite a nota da sua primeira prova: 6\n",
      "Digite a nota da sua segunda prova:  5\n",
      "Digite a nota da sua terceira prova: 4\n",
      "Digite a nota da sua quarta prova:   9\n",
      "\n",
      "A sua média esse bimestre é igual à 6.0.\n"
     ]
    }
   ],
   "source": [
    "num1 = int(input('Digite a nota da sua primeira prova: '))\n",
    "num2 = int(input('Digite a nota da sua segunda prova:  '))\n",
    "num3 = int(input('Digite a nota da sua terceira prova: '))\n",
    "num4 = int(input('Digite a nota da sua quarta prova:   '))\n",
    "\n",
    "media = (num1+num2+num3+num4)/4\n",
    "\n",
    "print(f'\\nA sua média esse bimestre é igual à {media}.')"
   ]
  },
  {
   "cell_type": "markdown",
   "id": "be4f5796",
   "metadata": {},
   "source": [
    "### 4.Faça um programa que converta metros para centímetros.​\n"
   ]
  },
  {
   "cell_type": "code",
   "execution_count": 4,
   "id": "7ed3ee61",
   "metadata": {},
   "outputs": [
    {
     "name": "stdout",
     "output_type": "stream",
     "text": [
      "Digite quantos metros você quer que seja convertido para cm: 100\n",
      "\n",
      "100.0 metros são iguais à 10000.0 cm.\n"
     ]
    }
   ],
   "source": [
    "metros = float(input('Digite quantos metros você quer que seja convertido para cm: '))\n",
    "\n",
    "if metros > 0:\n",
    "    cm = metros * 100\n",
    "    print(f'\\n{metros} metros são iguais à {cm} cm.')\n",
    "else:\n",
    "    print('\\nPor favor digite um valor maior que zero!')"
   ]
  },
  {
   "cell_type": "markdown",
   "id": "a98a3d7d",
   "metadata": {},
   "source": [
    "### 5.Faça um programa que peça o raio de um círculo e mostre sua área.​"
   ]
  },
  {
   "cell_type": "code",
   "execution_count": 5,
   "id": "fb5c7a6c",
   "metadata": {},
   "outputs": [
    {
     "name": "stdout",
     "output_type": "stream",
     "text": [
      "Digite o raio de um circulo em cm: 5\n",
      "\n",
      "A área desse circulo com raio de 5.0 cm é igual à 78.54 cm².\n"
     ]
    }
   ],
   "source": [
    "pi = 3.1415\n",
    "raio = float(input('Digite o raio de um circulo em cm: '))\n",
    "\n",
    "if raio > 0:\n",
    "    areaCirculo = round(pi * pow(raio,2), 2)\n",
    "    \n",
    "    print(f'\\nA área desse circulo com raio de {raio} cm é igual à {areaCirculo} cm².')\n",
    "else:\n",
    "    print('\\nPor favor digite um valor maior que zero!')"
   ]
  },
  {
   "cell_type": "markdown",
   "id": "36ed9378",
   "metadata": {},
   "source": [
    "### 6.Faça um programa que calcule a área de um quadrado, em seguida mostre o dobro desta área para o usuário."
   ]
  },
  {
   "cell_type": "code",
   "execution_count": 6,
   "id": "468ef764",
   "metadata": {},
   "outputs": [
    {
     "name": "stdout",
     "output_type": "stream",
     "text": [
      "Digite o valor do lado em cm: 5\n",
      "\n",
      "A área desse quadrado é: 25.0 cm².\n",
      "O dobro da área desse quadrado é igual à 50.0.\n"
     ]
    }
   ],
   "source": [
    "ladoQuadrado = float(input('Digite o valor do lado em cm: '))\n",
    "\n",
    "if ladoQuadrado > 0:\n",
    "    areaQuadrado = pow(ladoQuadrado,2)\n",
    "    dobroArea = areaQuadrado * 2\n",
    "    \n",
    "    print(f'\\nA área desse quadrado é: {areaQuadrado} cm².')\n",
    "    print(f'O dobro da área desse quadrado é igual à {dobroArea}.')\n",
    "else:\n",
    "    print('\\nPor favor digite um valor maior que zero!')"
   ]
  },
  {
   "cell_type": "markdown",
   "id": "30e26c72",
   "metadata": {},
   "source": [
    "### 7.Faça um programa que pergunte quanto você ganha por hora e o número de horas trabalhadas no mês. Calcule e mostre o total do seu salário no referido mês."
   ]
  },
  {
   "cell_type": "code",
   "execution_count": 7,
   "id": "7f93c849",
   "metadata": {},
   "outputs": [
    {
     "name": "stdout",
     "output_type": "stream",
     "text": [
      "Digite quantos reais vc ganha por hora: 11\n",
      "Quantas horas você trabalhou por mês? 160\n",
      "\n",
      "O seu salário esse mês é igual à R$1760.0.\n"
     ]
    }
   ],
   "source": [
    "ganhoHora = float(input('Digite quantos reais vc ganha por hora: '))\n",
    "horaMes = float(input('Quantas horas você trabalhou por mês? '))\n",
    "\n",
    "def salario():\n",
    "    sal = ganhoHora*horaMes\n",
    "    \n",
    "    print(f'\\nO seu salário esse mês é igual à R${sal}.')\n",
    "\n",
    "if ganhoHora > 0 and horaMes > 0:\n",
    "    salario()\n",
    "else:\n",
    "    print('\\nValor inválido, por favor digite um valor maior que zero!')\n"
   ]
  },
  {
   "cell_type": "markdown",
   "id": "a2e28664",
   "metadata": {},
   "source": [
    "### 8.Faça um programa que peça a temperatura em graus Fahrenheit, transforme e mostre a temperatura em graus Celsius."
   ]
  },
  {
   "cell_type": "code",
   "execution_count": 8,
   "id": "873f30a7",
   "metadata": {},
   "outputs": [
    {
     "name": "stdout",
     "output_type": "stream",
     "text": [
      "Digite uma temperatura em Fahrenheit:80\n",
      "\n",
      "80.0°F é equivalente à 26.7°C.\n"
     ]
    }
   ],
   "source": [
    "farenIn = float(input('Digite uma temperatura em Fahrenheit:'))\n",
    "\n",
    "celsiusOut = round((farenIn - 32)*5/9, 1)\n",
    "\n",
    "print(f'\\n{farenIn}°F é equivalente à {celsiusOut}°C.')"
   ]
  },
  {
   "cell_type": "markdown",
   "id": "0cbcf602",
   "metadata": {},
   "source": [
    "### 9.Faça um programa que peça a temperatura em graus Celsius, transforme e mostre em graus Fahrenheit.​"
   ]
  },
  {
   "cell_type": "code",
   "execution_count": 9,
   "id": "e2f063bd",
   "metadata": {},
   "outputs": [
    {
     "name": "stdout",
     "output_type": "stream",
     "text": [
      "Digite uma temperatura em Celsius: 26.7\n",
      "\n",
      "26.7°C é equivalente à 80.1°F.\n"
     ]
    }
   ],
   "source": [
    "celsiusIn = float(input('Digite uma temperatura em Celsius: '))\n",
    "\n",
    "farenOut = round((celsiusIn * 9/5) + 32, 1)\n",
    "\n",
    "print(f'\\n{celsiusIn}°C é equivalente à {farenOut}°F.')"
   ]
  },
  {
   "cell_type": "markdown",
   "id": "84a0d0a7",
   "metadata": {},
   "source": [
    "### 10.Faça um programa que peça 2 números inteiros e um número real. Calcule e mostre:\n",
    "\n",
    "- o produto do dobro do primeiro com metade do segundo.\n",
    "\n",
    "- a soma do triplo do primeiro com o terceiro.\n",
    "\n",
    "- o terceiro elevado ao cubo."
   ]
  },
  {
   "cell_type": "code",
   "execution_count": 10,
   "id": "0cb50d5a",
   "metadata": {},
   "outputs": [
    {
     "name": "stdout",
     "output_type": "stream",
     "text": [
      "Digite o 1° número inteiro: 2\n",
      "Digite o 2° número inteiro: 5\n",
      "Digite um número real: 5.2\n",
      "\n",
      "O produto do dobro do primeiro com a metade do segundo é igual à 10.0.\n",
      "A soma do triplo do primeiro com o terceiro é igual à 11.2.\n",
      "O terceiro elevado ao cubo é igual à 140.61.\n"
     ]
    }
   ],
   "source": [
    "numInt1 = int(input('Digite o 1° número inteiro: '))\n",
    "numInt2 = int(input('Digite o 2° número inteiro: '))\n",
    "numReal = float(input('Digite um número real: '))\n",
    "\n",
    "prodDobro = (numInt1*2)*(numInt2/2)\n",
    "somaTriplo = (numInt1*3)+numReal\n",
    "eleCubo = round(pow(numReal, 3), 2)\n",
    "\n",
    "print(f'\\nO produto do dobro do primeiro com a metade do segundo é igual à {prodDobro}.')\n",
    "print(f'A soma do triplo do primeiro com o terceiro é igual à {somaTriplo}.')\n",
    "print(f'O terceiro elevado ao cubo é igual à {eleCubo}.')"
   ]
  },
  {
   "cell_type": "markdown",
   "id": "d2e4f619",
   "metadata": {},
   "source": [
    "### 11.Tendo como dados de entrada a altura de uma pessoa, construa um algoritmo que calcule seu peso ideal, usando a seguinte fórmula: (72.7*altura) - 58"
   ]
  },
  {
   "cell_type": "code",
   "execution_count": 11,
   "id": "8827d57e",
   "metadata": {},
   "outputs": [
    {
     "name": "stdout",
     "output_type": "stream",
     "text": [
      "Digite a altura de uma pessoa em metros: 1.56\n",
      "\n",
      "Seu peso ideal é 55.4Kg.\n"
     ]
    }
   ],
   "source": [
    "altPessoa = float(input('Digite a altura de uma pessoa em metros: '))\n",
    "\n",
    "if altPessoa > 0:\n",
    "    pesoIdeal = round((72.7*altPessoa)-58, 1)\n",
    "    print(f'\\nSeu peso ideal é {pesoIdeal}Kg.')\n",
    "else:\n",
    "    print('\\nValor inválido, por favor digite um valor maior que zero!')"
   ]
  },
  {
   "cell_type": "markdown",
   "id": "eefcaa37",
   "metadata": {},
   "source": [
    "### 12.Tendo como dado de entrada a altura (h) de uma pessoa, construa um algoritmo que calcule seu peso ideal, utilizando as seguintes fórmulas:\n",
    "\n",
    "a. Para homens: (72.7*h) - 58\n",
    "\n",
    "b. Para mulheres: (62.1*h) - 44.7"
   ]
  },
  {
   "cell_type": "code",
   "execution_count": 12,
   "id": "d40c40b5",
   "metadata": {},
   "outputs": [
    {
     "name": "stdout",
     "output_type": "stream",
     "text": [
      "Digite a altura de uma pessoa em metros: 1.75\n",
      "\n",
      "O peso ideal de um homem com essa altura é de 69.2Kg.\n",
      "O peso ideal de uma mulher com essa altura é de 64.0Kg.\n"
     ]
    }
   ],
   "source": [
    "h = float(input('Digite a altura de uma pessoa em metros: '))\n",
    "\n",
    "if h > 0:\n",
    "    pesoIdealHomem = round((72.7*h)-58, 1)\n",
    "    pesoIdealMulher = round((62.1*h) - 44.7, 1)\n",
    "    \n",
    "    print(f'\\nO peso ideal de um homem com essa altura é de {pesoIdealHomem}Kg.')\n",
    "    print(f'O peso ideal de uma mulher com essa altura é de {pesoIdealMulher}Kg.')\n",
    "else:\n",
    "     print('\\nValor inválido, por favor digite um valor maior que zero!')"
   ]
  },
  {
   "cell_type": "markdown",
   "id": "c711adb1",
   "metadata": {},
   "source": [
    "### 13. Arthur Oliveira, homem de bem, comprou um microcomputador para controlar o rendimento diário de seu trabalho. Toda vez que ele traz um peso de peixes maior que o estabelecido pelo regulamento de pesca do estado de São Paulo (50 quilos) deve pagar uma multa de R$ 4,00 por quilo excedente. João precisa que você faça um programa que leia a variável peso (peso de peixes) e calcule o excesso. Gravar na variável excesso a quantidade de quilos além do limite e na variável multa o valor da multa que Arthur deverá pagar. Imprima os dados do programa com as mensagens adequadas.​"
   ]
  },
  {
   "cell_type": "code",
   "execution_count": 13,
   "id": "31f37855",
   "metadata": {},
   "outputs": [
    {
     "name": "stdout",
     "output_type": "stream",
     "text": [
      "Digite o peso de peixes: 55\n",
      "\n",
      "O peso de peixe é 55.0Kg, excedendo o limite em 5.0Kg, portanto você devera pagar uma multa de R$20.0.\n"
     ]
    }
   ],
   "source": [
    "limite = 50\n",
    "multa = 4\n",
    "pesoPeixe = float(input('Digite o peso de peixes: '))\n",
    "\n",
    "if pesoPeixe > limite:\n",
    "    excesso = pesoPeixe-limite\n",
    "    valor = excesso*multa\n",
    "    \n",
    "    print(f'\\nO peso de peixe é {pesoPeixe}Kg, excedendo o limite em {excesso}Kg, portanto você devera pagar uma multa de R${valor}.')\n",
    "else:\n",
    "    print('\\nAbaixo do limite, não deverá pagar multa!')"
   ]
  },
  {
   "cell_type": "markdown",
   "id": "428cef97",
   "metadata": {},
   "source": [
    "### 14.Faça um programa que pergunte quanto você ganha por hora e o número de horas trabalhadas no mês. Calcule e mostre o total do seu salário no referido mês, sabendo-se que são descontados 11% para o Imposto de Renda, 8% para o INSS e 5% para o sindicato, faça um programa que nos dê:​\n",
    "\n",
    "- salário bruto.​\n",
    "\n",
    "- quanto pagou ao INSS.​\n",
    "\n",
    "- quanto pagou ao sindicato.​\n",
    "\n",
    "- o salário líquido.​\n",
    "\n",
    "#### calcule os descontos e o salário líquido, conforme a tabela abaixo:​\n",
    "\n",
    "+ Salário Bruto : R$​\n",
    "\n",
    "- -IR (11%) : R$​\n",
    "\n",
    "- -INSS (8%) : R$​\n",
    "\n",
    "- -Sindicato ( 5%) : R$​\n",
    "\n",
    "- =Salário Liquido : R$"
   ]
  },
  {
   "cell_type": "code",
   "execution_count": 14,
   "id": "90254bfe",
   "metadata": {},
   "outputs": [
    {
     "name": "stdout",
     "output_type": "stream",
     "text": [
      "Quantos reais você ganha por hora? 11\n",
      "Quantas horas vc trabalha por mês? 160\n",
      "\n",
      "Seu salário líquido esse mês é de R$1337.6.\n"
     ]
    }
   ],
   "source": [
    "ganhoPhora = float(input('Quantos reais você ganha por hora? '))\n",
    "horaTmes = float(input('Quantas horas vc trabalha por mês? '))\n",
    "\n",
    "ir = 11/100\n",
    "inss = 8/100\n",
    "sind = 5/100\n",
    "\n",
    "if ganhoPhora > 0 and horaTmes > 0:\n",
    "    salBruto = ganhoPhora*horaTmes\n",
    "    salLiq = round(salBruto-(salBruto*ir)-(salBruto*inss)-(salBruto*sind), 2)\n",
    "    print(f'\\nSeu salário líquido esse mês é de R${salLiq}.')"
   ]
  },
  {
   "cell_type": "markdown",
   "id": "5d280228",
   "metadata": {},
   "source": [
    "### 15.Faça um programa para uma loja de tintas. O programa deverá pedir o tamanho em metros quadrados da área a ser pintada. Considere que a cobertura da tinta é de 1 litro para cada 3 metros quadrados e que a tinta é vendida em latas de 18 litros, que custam R$ 80,00. Informe ao usuário a quantidades de latas de tinta a serem compradas e o preço total.​"
   ]
  },
  {
   "cell_type": "code",
   "execution_count": 15,
   "id": "b5e854d0",
   "metadata": {},
   "outputs": [
    {
     "name": "stdout",
     "output_type": "stream",
     "text": [
      "Digite o tamanho da área a ser pintada em m²: 60\n",
      "\n",
      "Você precisará de 2 latas e deverá pagar R$160.\n",
      "Você precisara de 20.0L.\n"
     ]
    }
   ],
   "source": [
    "import math\n",
    "\n",
    "areaPintada = float(input('Digite o tamanho da área a ser pintada em m²: '))\n",
    "\n",
    "#rendimento 1L - 3m²\n",
    "lataLitro = 18\n",
    "lataPreco = 80\n",
    "\n",
    "if areaPintada > 0:\n",
    "    litro = areaPintada/3\n",
    "    latas = math.ceil(litro/lataLitro)\n",
    "\n",
    "    if litro > 0 and litro < 18:\n",
    "        valorPagar = lataPreco\n",
    "        \n",
    "        print(f'\\nVocê precisara de {latas} lata, pois é tamanho unico e deverá pagar R${valorPagar}.')\n",
    "    elif litro > 18:\n",
    "        valorPagar = latas*lataPreco\n",
    "        \n",
    "        print(f'\\nVocê precisará de {latas} latas e deverá pagar R${valorPagar}.')\n",
    "\n",
    "    print(f'Você precisara de {round(litro, 2)}L.')\n",
    "else: \n",
    "    print('\\nDigite um valor maior que zero!')"
   ]
  },
  {
   "cell_type": "markdown",
   "id": "4f138c98",
   "metadata": {},
   "source": [
    "   ### 16. Faça um Programa para uma loja de tintas. O programa deverá pedir o tamanho em metros quadrados da área a ser pintada. Considere que a cobertura da tinta é de 1 litro para cada 6 metros quadrados e que a tinta é vendida em latas de 18 litros, que custam R$ 80,00 ou em galões de 3,6 litros, que custam R$ 25,00.\n",
    "\n",
    "   ##### Informe ao usuário as quantidades de tinta a serem compradas e os respectivos preços em 3 situações:​\n",
    "\n",
    "    - comprar apenas latas de 18 litros;​\n",
    "\n",
    "    - comprar apenas galões de 3,6 litros;​\n",
    "\n",
    "    - misturar latas e galões, de forma que o desperdício de tinta seja menor. Acrescente 10% de folga e sempre arredonde os valores para cima, isto é, considere latas cheias."
   ]
  },
  {
   "cell_type": "code",
   "execution_count": 16,
   "id": "24499868",
   "metadata": {},
   "outputs": [
    {
     "name": "stdout",
     "output_type": "stream",
     "text": [
      "Digite o tamanho da área a ser pintada em m²: 50\n",
      "\n",
      "Você precisara de 1 lata, pois é tamanho unico e deverá pagar R$80.\n",
      "Você precisara de 3 galões e deverá pagar R$75.\n",
      "\n",
      "Você precisara de 8.33L.\n"
     ]
    }
   ],
   "source": [
    "import math\n",
    "\n",
    "areaPintada2 = float(input('Digite o tamanho da área a ser pintada em m²: '))\n",
    "\n",
    "#rendimento 1L - 6m²\n",
    "lataLitro2 = 18\n",
    "lataPreco2 = 80\n",
    "galaoLitro = 3.6\n",
    "galaoPreco = 25\n",
    "\n",
    "if areaPintada2 > 0:\n",
    "    litro2 = areaPintada2/6\n",
    "    latas2 = math.ceil(litro2/lataLitro2)\n",
    "    galoes = math.ceil(litro2/galaoLitro)\n",
    "    \n",
    "    if litro2 < 18:\n",
    "        valorPagar2 = lataPreco2\n",
    "        print(f'\\nVocê precisara de {latas2} lata, pois é tamanho unico e deverá pagar R${valorPagar2}.')\n",
    "    else: \n",
    "        valorPagar2 = latas2*lataPreco2\n",
    "        print(f'\\nVocê precisará de {latas2} latas e deverá pagar R${valorPagar2}.')\n",
    "        \n",
    "    if litro2 < 3.6:\n",
    "        valorPagar2 = galaoPreco\n",
    "        print(f'Você precisara de {galoes} galão, pois é tamanho unico e deverá pagar R${valorPagar2}.')\n",
    "    else:\n",
    "        valorPagar2 = galoes*galaoPreco\n",
    "        print(f'Você precisara de {galoes} galões e deverá pagar R${valorPagar2}.')\n",
    "     \n",
    "    #mistura???\n",
    "\n",
    "    print(f'\\nVocê precisara de {round(litro2, 2)}L.')\n",
    "else: \n",
    "    print('\\nDigite um valor maior que zero!')"
   ]
  }
 ],
 "metadata": {
  "kernelspec": {
   "display_name": "Python 3 (ipykernel)",
   "language": "python",
   "name": "python3"
  },
  "language_info": {
   "codemirror_mode": {
    "name": "ipython",
    "version": 3
   },
   "file_extension": ".py",
   "mimetype": "text/x-python",
   "name": "python",
   "nbconvert_exporter": "python",
   "pygments_lexer": "ipython3",
   "version": "3.9.12"
  }
 },
 "nbformat": 4,
 "nbformat_minor": 5
}
