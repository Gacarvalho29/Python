{
 "cells": [
  {
   "cell_type": "markdown",
   "metadata": {},
   "source": [
    "# Percentual"
   ]
  },
  {
   "cell_type": "markdown",
   "metadata": {},
   "source": [
    "**1.** 28 representa quantos por cento de 200?"
   ]
  },
  {
   "cell_type": "code",
   "execution_count": 1,
   "metadata": {},
   "outputs": [
    {
     "name": "stdout",
     "output_type": "stream",
     "text": [
      "28 representa 14.0% de 200.\n"
     ]
    }
   ],
   "source": [
    "tot = ((28 * 100)/200)\n",
    "\n",
    "print(f'28 representa {tot}% de 200.')"
   ]
  },
  {
   "cell_type": "markdown",
   "metadata": {},
   "source": [
    "**2.** 70 representa 15% de qual número?"
   ]
  },
  {
   "cell_type": "code",
   "execution_count": 2,
   "metadata": {},
   "outputs": [
    {
     "name": "stdout",
     "output_type": "stream",
     "text": [
      "70 representa 15% de 467.\n"
     ]
    }
   ],
   "source": [
    "tot2 = round((70 * 100)/15)\n",
    "\n",
    "print(f'70 representa 15% de {tot2}.')"
   ]
  },
  {
   "cell_type": "markdown",
   "metadata": {},
   "source": [
    "**3.** Em uma sala de aula há 60 alunos, dos quais 42% são meninas. Quantas meninas têm na sala?"
   ]
  },
  {
   "cell_type": "code",
   "execution_count": 3,
   "metadata": {},
   "outputs": [
    {
     "name": "stdout",
     "output_type": "stream",
     "text": [
      "Na sala existem 25 meninas.\n"
     ]
    }
   ],
   "source": [
    "totalSala = 60\n",
    "meninasPerc = 42\n",
    "\n",
    "meninas = round((totalSala * meninasPerc)/100)\n",
    "\n",
    "print(f'Na sala existem {meninas} meninas.')"
   ]
  },
  {
   "cell_type": "markdown",
   "metadata": {},
   "source": [
    "**4.** Júlia acertou 75% das questões de matemática do teste e Mariana acertou 4/5. Quem acertou mais questões? E qual percentual?"
   ]
  },
  {
   "cell_type": "code",
   "execution_count": 4,
   "metadata": {},
   "outputs": [
    {
     "name": "stdout",
     "output_type": "stream",
     "text": [
      "Mariana acertou mais questões, ela acertou 80.0%, sendo isso 5.0% a mais que julia.\n"
     ]
    }
   ],
   "source": [
    "#4/5 = \n",
    "mariana = ((4/5) * 100)\n",
    "julia = 75\n",
    "\n",
    "diff = abs(mariana - julia)\n",
    "\n",
    "print(f'Mariana acertou mais questões, ela acertou {mariana}%, sendo isso {diff}% a mais que julia.')"
   ]
  },
  {
   "cell_type": "markdown",
   "metadata": {},
   "source": [
    "**5.** Na promoção de uma loja de eletrodomésticos, um aparelho de som custava R$500,00 e teve um desconto de 13.5%. Quanto o cliente que decidir comprar o equipamento pagará?"
   ]
  },
  {
   "cell_type": "code",
   "execution_count": 5,
   "metadata": {},
   "outputs": [
    {
     "name": "stdout",
     "output_type": "stream",
     "text": [
      "O cliente que dicidir comprar pagará R$432.5.\n"
     ]
    }
   ],
   "source": [
    "somPreco = 500\n",
    "somDesc = 13.5\n",
    "\n",
    "valorFinalSom = (somPreco - ((somPreco * somDesc)/100))\n",
    "\n",
    "print(f'O cliente que dicidir comprar pagará R${valorFinalSom}.')"
   ]
  },
  {
   "cell_type": "markdown",
   "metadata": {},
   "source": [
    "**6.** Em um concurso, 520 candidatos se inscreveram. No dia da prova apenas 364 candidatos compareceram. Neste caso, qual foi a porcentagem dos candidatos que faltaram a prova?"
   ]
  },
  {
   "cell_type": "code",
   "execution_count": 6,
   "metadata": {},
   "outputs": [
    {
     "name": "stdout",
     "output_type": "stream",
     "text": [
      "70.0% dos candidatos compareceram.\n",
      "30.0% dos candidatos faltaram.\n"
     ]
    }
   ],
   "source": [
    "totalCand = 520\n",
    "presentes = 364\n",
    "\n",
    "presentesPerc = (presentes * 100)/totalCand\n",
    "ausentes = totalCand - presentes\n",
    "ausentesPerc = (ausentes * 100)/totalCand\n",
    "\n",
    "print(f'{presentesPerc}% dos candidatos compareceram.')\n",
    "print(f'{ausentesPerc}% dos candidatos faltaram.')"
   ]
  },
  {
   "cell_type": "markdown",
   "metadata": {},
   "source": [
    "**7.** Em uma indústria, o setor de qualidade constatou que um lote com 5500 peças, 280 apresentavam algum defeito. Para um lote ser aprovado é necessário que o número de peças com defeito seja inferior a 3%. Neste caso, o lote foi aprovado ou reprovado? E qual o percentual de peças  com defeito?"
   ]
  },
  {
   "cell_type": "code",
   "execution_count": 7,
   "metadata": {},
   "outputs": [
    {
     "name": "stdout",
     "output_type": "stream",
     "text": [
      "O lote foi reprovado pois o percentual de peças com defeito foi de 5.09%.\n"
     ]
    }
   ],
   "source": [
    "pecaTotal = 5500\n",
    "pecaDefeito = 280\n",
    "\n",
    "pecaDefeitoPerc = round((pecaDefeito * 100)/pecaTotal, 2)\n",
    "\n",
    "print(f'O lote foi reprovado pois o percentual de peças com defeito foi de {pecaDefeitoPerc}%.')"
   ]
  },
  {
   "cell_type": "markdown",
   "metadata": {},
   "source": [
    "**8.** Na última liquidação de verão, uma loja vendia todos os seus produtos com um desconto de 15%. Se uma camisa antes da liquidação custava R$ 145,00, quanto passou a custar na liquidação?"
   ]
  },
  {
   "cell_type": "code",
   "execution_count": 8,
   "metadata": {},
   "outputs": [
    {
     "name": "stdout",
     "output_type": "stream",
     "text": [
      "Na liquidação, a camisa passou a custar R$123.25.\n"
     ]
    }
   ],
   "source": [
    "prodDesc = 15\n",
    "camisa = 145\n",
    "\n",
    "camisaDesc = ((camisa*prodDesc)/100)\n",
    "valorFinalCamisa = (camisa - camisaDesc)\n",
    "\n",
    "print(f'Na liquidação, a camisa passou a custar R${valorFinalCamisa}.')"
   ]
  },
  {
   "cell_type": "markdown",
   "metadata": {},
   "source": [
    "**9.** Em uma loja, uma máquina de lavar roupas custava R$ 1500,00 e seu preço sofreu um aumento de 3%. Logo após o aumento a loja resolveu fazer uma promoção oferecendo um desconto de 3% no mesmo produto. Qual o valor do produto após o aumento e após o desconto?"
   ]
  },
  {
   "cell_type": "code",
   "execution_count": 9,
   "metadata": {},
   "outputs": [
    {
     "name": "stdout",
     "output_type": "stream",
     "text": [
      "Após o aumento a máquina passou a valer R$1545.0.\n",
      "Após o desconto a máquina passou a valer R$1498.65.\n"
     ]
    }
   ],
   "source": [
    "maquinaPreco = 1500\n",
    "aumentoPerc = 3\n",
    "\n",
    "aumentoValor = ((maquinaPreco * aumentoPerc)/100)\n",
    "maquinaAumento = (maquinaPreco + aumentoValor)\n",
    "valorFinalMaquina = (maquinaAumento - ((maquinaAumento*aumentoPerc)/100))\n",
    "\n",
    "print(f'Após o aumento a máquina passou a valer R${maquinaAumento}.')\n",
    "print(f'Após o desconto a máquina passou a valer R${valorFinalMaquina}.')"
   ]
  },
  {
   "cell_type": "markdown",
   "metadata": {},
   "source": [
    "**10.** Eu tenho 1,76 de altura e minha irmã 1,57. Quantos % eu sou maior que minha irmã?"
   ]
  },
  {
   "cell_type": "code",
   "execution_count": 10,
   "metadata": {},
   "outputs": [
    {
     "name": "stdout",
     "output_type": "stream",
     "text": [
      "A pessoa é 12.1% maior que sua irmã.\n"
     ]
    }
   ],
   "source": [
    "altPessoa = 1.76\n",
    "altIrma = 1.57\n",
    "\n",
    "diff = round((altPessoa/altIrma) * 100 - 100, 2)\n",
    "\n",
    "print(f'A pessoa é {diff}% maior que sua irmã.')"
   ]
  }
 ],
 "metadata": {
  "kernelspec": {
   "display_name": "Python 3 (ipykernel)",
   "language": "python",
   "name": "python3"
  },
  "language_info": {
   "codemirror_mode": {
    "name": "ipython",
    "version": 3
   },
   "file_extension": ".py",
   "mimetype": "text/x-python",
   "name": "python",
   "nbconvert_exporter": "python",
   "pygments_lexer": "ipython3",
   "version": "3.9.12"
  }
 },
 "nbformat": 4,
 "nbformat_minor": 4
}
